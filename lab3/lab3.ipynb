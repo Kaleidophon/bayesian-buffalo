{
 "cells": [
  {
   "cell_type": "markdown",
   "metadata": {
    "deletable": false,
    "editable": false,
    "nbgrader": {
     "checksum": "9a10081f57b90a368eb8daf62e3ba00e",
     "grade": false,
     "grade_id": "cell-02487845739eb4fd",
     "locked": true,
     "schema_version": 1,
     "solution": false
    }
   },
   "source": [
    "### Lab 3: Expectation Maximization and Variational Autoencoder\n",
    "\n",
    "### Machine Learning 2 (2017/2018)\n",
    "\n",
    "* The lab exercises should be made in groups of two or three people.\n",
    "* The deadline is Friday, 01.06.\n",
    "* Assignment should be submitted through BlackBoard! Make sure to include your and your teammates' names with the submission.\n",
    "* Attach the .IPYNB (IPython Notebook) file containing your code and answers. Naming of the file should be \"studentid1\\_studentid2\\_lab#\", for example, the attached file should be \"12345\\_12346\\_lab1.ipynb\". Only use underscores (\"\\_\") to connect ids, otherwise the files cannot be parsed.\n",
    "\n",
    "Notes on implementation:\n",
    "\n",
    "* You should write your code and answers in an IPython Notebook: http://ipython.org/notebook.html. If you have problems, please ask.\n",
    "* Use __one cell__ for code and markdown answers only!\n",
    "    * Put all code in the cell with the ```# YOUR CODE HERE``` comment and overwrite the ```raise NotImplementedError()``` line.\n",
    "    * For theoretical questions, put your solution using LaTeX style formatting in the YOUR ANSWER HERE cell.\n",
    "* Among the first lines of your notebook should be \"%pylab inline\". This imports all required modules, and your plots will appear inline.\n",
    "* Large parts of you notebook will be graded automatically. Therefore it is important that your notebook can be run completely without errors and within a reasonable time limit. To test your notebook before submission, select Kernel -> Restart \\& Run All.\n",
    "$\\newcommand{\\bx}{\\mathbf{x}} \\newcommand{\\bpi}{\\mathbf{\\pi}} \\newcommand{\\bmu}{\\mathbf{\\mu}} \\newcommand{\\bX}{\\mathbf{X}} \\newcommand{\\bZ}{\\mathbf{Z}} \\newcommand{\\bz}{\\mathbf{z}}$"
   ]
  },
  {
   "cell_type": "markdown",
   "metadata": {
    "deletable": false,
    "editable": false,
    "nbgrader": {
     "checksum": "e4e05229ee79b55d6589e1ea8de68f32",
     "grade": false,
     "grade_id": "cell-a0a6fdb7ca694bee",
     "locked": true,
     "schema_version": 1,
     "solution": false
    }
   },
   "source": [
    "### Installing PyTorch\n",
    "\n",
    "In this lab we will use PyTorch. PyTorch is an open source deep learning framework primarily developed by Facebook's artificial-intelligence research group. In order to install PyTorch in your conda environment go to https://pytorch.org and select your operating system, conda, Python 3.6, no cuda. Copy the text from the \"Run this command:\" box. Now open a terminal and activate your 'ml2labs' conda environment. Paste the text and run. After the installation is done you should restart Jupyter."
   ]
  },
  {
   "cell_type": "markdown",
   "metadata": {
    "deletable": false,
    "editable": false,
    "nbgrader": {
     "checksum": "d9c3d77f550b5fd93b34fd18825c47f0",
     "grade": false,
     "grade_id": "cell-746cac8d9a21943b",
     "locked": true,
     "schema_version": 1,
     "solution": false
    }
   },
   "source": [
    "### MNIST data\n",
    "\n",
    "In this Lab we will use several methods for unsupervised learning on the MNIST dataset of written digits. The dataset contains digital images of handwritten numbers $0$ through $9$. Each image has 28x28 pixels that each take 256 values in a range from white ($= 0$) to  black ($=1$). The labels belonging to the images are also included. \n",
    "Fortunately, PyTorch comes with a MNIST data loader. The first time you run the box below it will download the MNIST data set. That can take a couple of minutes.\n",
    "The main data types in PyTorch are tensors. For Part 1, we will convert those tensors to numpy arrays. In Part 2, we will use the torch module to directly work with PyTorch tensors."
   ]
  },
  {
   "cell_type": "code",
   "execution_count": 3,
   "metadata": {
    "deletable": false,
    "editable": false,
    "nbgrader": {
     "checksum": "4fbc152afa1255331d7b88bf00b7156c",
     "grade": false,
     "grade_id": "cell-7c995be0fda080c0",
     "locked": true,
     "schema_version": 1,
     "solution": false
    }
   },
   "outputs": [
    {
     "name": "stdout",
     "output_type": "stream",
     "text": [
      "Populating the interactive namespace from numpy and matplotlib\n"
     ]
    }
   ],
   "source": [
    "%pylab inline\n",
    "import torch\n",
    "from torchvision import datasets, transforms\n",
    "\n",
    "train_dataset = datasets.MNIST('../data', train=True, download=True,\n",
    "                   transform=transforms.Compose([\n",
    "                       transforms.ToTensor(),\n",
    "                       transforms.Normalize((0.1307,), (0.3081,))\n",
    "                   ]))\n",
    "\n",
    "train_labels = train_dataset.train_labels.numpy()\n",
    "train_data = train_dataset.train_data.numpy()\n",
    "# For EM we will use flattened data\n",
    "train_data = train_data.reshape(train_data.shape[0], -1)\n"
   ]
  },
  {
   "cell_type": "markdown",
   "metadata": {
    "deletable": false,
    "editable": false,
    "nbgrader": {
     "checksum": "4fc852f9bfb0bab10d4c23eada309e89",
     "grade": false,
     "grade_id": "cell-8b4a44df532b1867",
     "locked": true,
     "schema_version": 1,
     "solution": false
    }
   },
   "source": [
    "## Part 1: Expectation Maximization\n",
    "We will use the Expectation Maximization (EM) algorithm for the recognition of handwritten digits in the MNIST dataset. The images are modelled as a Bernoulli mixture model (see Bishop $\\S9.3.3$):\n",
    "$$\n",
    "p(\\bx|\\bmu, \\bpi) = \\sum_{k=1}^K  \\pi_k \\prod_{i=1}^D \\mu_{ki}^{x_i}(1-\\mu_{ki})^{(1-x_i)}\n",
    "$$\n",
    "where $x_i$ is the value of pixel $i$ in an image, $\\mu_{ki}$ represents the probability that pixel $i$ in class $k$ is black, and $\\{\\pi_1, \\ldots, \\pi_K\\}$ are the mixing coefficients of classes in the data. We want to use this data set to classify new images of handwritten numbers."
   ]
  },
  {
   "cell_type": "markdown",
   "metadata": {
    "deletable": false,
    "editable": false,
    "nbgrader": {
     "checksum": "54064637b7e7cf938c0f778d748a226a",
     "grade": false,
     "grade_id": "cell-af03fef663aa85b2",
     "locked": true,
     "schema_version": 1,
     "solution": false
    }
   },
   "source": [
    "### 1.1 Binary data (5 points)\n",
    "As we like to apply our Bernoulli mixture model, write a function `binarize` to convert the (flattened) MNIST data to binary images, where each pixel $x_i \\in \\{0,1\\}$, by thresholding at an appropriate level."
   ]
  },
  {
   "cell_type": "code",
   "execution_count": 4,
   "metadata": {
    "deletable": false,
    "nbgrader": {
     "checksum": "fe8607a4d734f7f26ef1ee1e54b33471",
     "grade": false,
     "grade_id": "cell-ec4365531ca57ef3",
     "locked": false,
     "schema_version": 1,
     "solution": true
    }
   },
   "outputs": [],
   "source": [
    "def binarize(X):\n",
    "    thresh = X.max() / 2\n",
    "    bin_X = X.copy()\n",
    "    bin_X[bin_X < thresh] = 0\n",
    "    bin_X[bin_X >= thresh] = 1\n",
    "    bin_X = bin_X.astype(np.float)\n",
    "    return bin_X"
   ]
  },
  {
   "cell_type": "code",
   "execution_count": 5,
   "metadata": {
    "deletable": false,
    "editable": false,
    "nbgrader": {
     "checksum": "231b2c9f29bc5c536c60cef4d74793a1",
     "grade": true,
     "grade_id": "cell-2f16f57cb68a83b3",
     "locked": true,
     "points": 5,
     "schema_version": 1,
     "solution": false
    }
   },
   "outputs": [],
   "source": [
    "# Test test test!\n",
    "bin_train_data = binarize(train_data)\n",
    "assert bin_train_data.dtype == np.float\n",
    "assert bin_train_data.shape == train_data.shape\n"
   ]
  },
  {
   "cell_type": "markdown",
   "metadata": {
    "deletable": false,
    "editable": false,
    "nbgrader": {
     "checksum": "a0a39404cc2f67078b399ee34653a3ac",
     "grade": false,
     "grade_id": "cell-462e747685e8670f",
     "locked": true,
     "schema_version": 1,
     "solution": false
    }
   },
   "source": [
    "Sample a few images of digits $2$, $3$ and $4$; and show both the original and the binarized image together with their label."
   ]
  },
  {
   "cell_type": "code",
   "execution_count": 87,
   "metadata": {
    "deletable": false,
    "nbgrader": {
     "checksum": "3f3c981f0fda5ba3bdfcefb9144305c7",
     "grade": true,
     "grade_id": "cell-784c6bd177a9aa42",
     "locked": false,
     "points": 5,
     "schema_version": 1,
     "solution": true
    }
   },
   "outputs": [
    {
     "data": {
      "image/png": "[encoded data removed]",
      "text/plain": [
       "<Figure size 432x288 with 2 Axes>"
      ]
     },
     "metadata": {},
     "output_type": "display_data"
    },
    {
     "data": {
      "image/png": "[encoded data removed]",
      "text/plain": [
       "<Figure size 432x288 with 2 Axes>"
      ]
     },
     "metadata": {},
     "output_type": "display_data"
    },
    {
     "data": {
      "image/png": "[encoded data removed]",
      "text/plain": [
       "<Figure size 432x288 with 2 Axes>"
      ]
     },
     "metadata": {},
     "output_type": "display_data"
    },
    {
     "data": {
      "image/png": "[encoded data removed]",
      "text/plain": [
       "<Figure size 432x288 with 2 Axes>"
      ]
     },
     "metadata": {},
     "output_type": "display_data"
    },
    {
     "data": {
      "image/png": "[encoded data removed]",
      "text/plain": [
       "<Figure size 432x288 with 2 Axes>"
      ]
     },
     "metadata": {},
     "output_type": "display_data"
    },
    {
     "data": {
      "image/png": "[encoded data removed]",
      "text/plain": [
       "<Figure size 432x288 with 2 Axes>"
      ]
     },
     "metadata": {},
     "output_type": "display_data"
    },
    {
     "data": {
      "image/png": "[encoded data removed]",
      "text/plain": [
       "<Figure size 432x288 with 2 Axes>"
      ]
     },
     "metadata": {},
     "output_type": "display_data"
    },
    {
     "data": {
      "image/png": "[encoded data removed]",
      "text/plain": [
       "<Figure size 432x288 with 2 Axes>"
      ]
     },
     "metadata": {},
     "output_type": "display_data"
    },
    {
     "data": {
      "image/png": "[encoded data removed]",
      "text/plain": [
       "<Figure size 432x288 with 2 Axes>"
      ]
     },
     "metadata": {},
     "output_type": "display_data"
    },
    {
     "data": {
      "image/png": "[encoded data removed]",
      "text/plain": [
       "<Figure size 432x288 with 2 Axes>"
      ]
     },
     "metadata": {},
     "output_type": "display_data"
    },
    {
     "data": {
      "image/png": "[encoded data removed]",
      "text/plain": [
       "<Figure size 432x288 with 2 Axes>"
      ]
     },
     "metadata": {},
     "output_type": "display_data"
    },
    {
     "data": {
      "image/png": "[encoded data removed]",
      "text/plain": [
       "<Figure size 432x288 with 2 Axes>"
      ]
     },
     "metadata": {},
     "output_type": "display_data"
    }
   ],
   "source": [
    "from random import sample\n",
    "\n",
    "def compare_digits(digit, sample_size, training_labels, original_train_data, binarized_train_data):\n",
    "    digit_indices = np.where(training_labels == digit)[0]\n",
    "    sampled_indices = sample(list(digit_indices), k=sample_size)\n",
    "    sampled_original_digits = original_train_data[sampled_indices]\n",
    "    sampled_binarized_digits = binarized_train_data[sampled_indices]\n",
    "    \n",
    "    for sample_index, original_digit, binarized_digit in zip(sampled_indices, sampled_original_digits, sampled_binarized_digits):\n",
    "        f, (ax1, ax2) = plt.subplots(1, 2, sharey=True)\n",
    "        ax1.set_title(\"Original and binarized digits {} with index {}\".format(digit, sample_index))\n",
    "        ax1.imshow(original_digit.reshape(28, 28), cmap='hot', interpolation='nearest')\n",
    "        ax2.imshow(binarized_digit.reshape(28, 28), cmap='hot', interpolation='nearest')\n",
    "    \n",
    "        plt.show()\n",
    "    \n",
    "compare_digits(\n",
    "    digit=2, sample_size=4, training_labels=train_labels, \n",
    "    original_train_data=train_data, binarized_train_data=bin_train_data\n",
    ")\n",
    "\n",
    "compare_digits(\n",
    "    digit=3, sample_size=4, training_labels=train_labels, \n",
    "    original_train_data=train_data, binarized_train_data=bin_train_data\n",
    ")\n",
    "\n",
    "compare_digits(\n",
    "    digit=4, sample_size=4, training_labels=train_labels, \n",
    "    original_train_data=train_data, binarized_train_data=bin_train_data\n",
    ")"
   ]
  },
  {
   "cell_type": "markdown",
   "metadata": {
    "deletable": false,
    "editable": false,
    "nbgrader": {
     "checksum": "4b9da574d24193df76e96ed8ca62c7b0",
     "grade": false,
     "grade_id": "cell-56b33654497d4052",
     "locked": true,
     "schema_version": 1,
     "solution": false
    }
   },
   "source": [
    "### 1.2 Implementation (40 points)\n",
    "You are going to write a function ```EM(X, K, max_iter)``` that implements the EM algorithm on the Bernoulli mixture model. \n",
    "\n",
    "The only parameters the function has are:\n",
    "* ```X``` :: (NxD) array of input training images\n",
    "* ```K``` :: size of the latent space\n",
    "* ```max_iter``` :: maximum number of iterations, i.e. one E-step and one M-step\n",
    "\n",
    "You are free to specify your return statement.\n",
    "\n",
    "Make sure you use a sensible way of terminating the iteration process early to prevent unnecessarily running through all epochs. Vectorize computations using ```numpy``` as  much as possible.\n",
    "\n",
    "You should implement the `E_step(X, mu, pi)` and `M_step(X, gamma)` separately in the functions defined below. These you can then use in your function `EM(X, K, max_iter)`."
   ]
  },
  {
   "cell_type": "code",
   "execution_count": 118,
   "metadata": {
    "deletable": false,
    "nbgrader": {
     "checksum": "316c9131692747c363b5db8e9091d362",
     "grade": false,
     "grade_id": "cell-882b13c117a73cc4",
     "locked": false,
     "schema_version": 1,
     "solution": true
    }
   },
   "outputs": [],
   "source": [
    "def E_step(X, mu, pi):\n",
    "    print(\"Performing E-Step...\")\n",
    "    # Reponsibility of a data point by a cluster\n",
    "    gamma = np.zeros((X.shape[0], mu.shape[0]))\n",
    "    K = gamma.shape[1]\n",
    "        \n",
    "    # Calculate the probability of a pixel per data point per cluster\n",
    "    pixel_probs = np.array([(mu[k, :] ** X) * ((1-mu[k, :]) ** (1-X)) for k in range(K)])\n",
    "    \n",
    "    assert not numpy.isnan(pixel_probs).any(), \"NaN in pixel_probs\"\n",
    "    \n",
    "    # Calculate the total probability of each data point given each cluster\n",
    "    # by multiplying all the individual pixel probabilities\n",
    "    digit_bernoulli_prob = np.prod(pixel_probs, axis=2)\n",
    "    \n",
    "    assert not numpy.isnan(digit_bernoulli_prob).any(), \"NaN in digit prob\"\n",
    "    \n",
    "    # Calculate the unnormalized gamma values by multiplying the digit probabilites per cluster\n",
    "    # with the cluster probabilities pi_k\n",
    "    unnormalized_gammas = digit_bernoulli_prob.T * pi\n",
    "    print(unnormalized_gammas)\n",
    "    norm = np.sum(unnormalized_gammas.T)\n",
    "    assert not numpy.isnan(unnormalized_gammas).any(), \"NaN in unnormalized gammas\"\n",
    "    \n",
    "    # Normalized to obtain gammas\n",
    "    gamma = unnormalized_gammas / norm\n",
    "    print(\"Gamma\",gamma)\n",
    "    gamma[np.isnan(gamma)] = 0\n",
    "    assert not numpy.isnan(gamma).any(), \"NaN in gammas\"\n",
    "    \n",
    "    return gamma"
   ]
  },
  {
   "cell_type": "code",
   "execution_count": 119,
   "metadata": {
    "deletable": false,
    "editable": false,
    "nbgrader": {
     "checksum": "1418f4014e98024fc97446ce27766c1d",
     "grade": true,
     "grade_id": "cell-f7c7dd52d82e2498",
     "locked": true,
     "points": 15,
     "schema_version": 1,
     "solution": false
    }
   },
   "outputs": [
    {
     "name": "stdout",
     "output_type": "stream",
     "text": [
      "Performing E-Step...\n",
      "[[1.04372293e-255 3.12477084e-255 6.11898863e-257 4.41768812e-255\n",
      "  4.38650549e-250 1.01689888e-253 2.61915064e-253 3.95562265e-253\n",
      "  6.45039706e-253 2.01448238e-246]\n",
      " [2.06773262e-258 2.27257437e-255 5.77398158e-258 3.84372573e-255\n",
      "  2.67631446e-251 3.19629107e-259 8.00156266e-252 4.59247052e-252\n",
      "  7.09391883e-255 6.68229267e-252]\n",
      " [2.03124567e-255 1.69944811e-255 9.01219653e-254 4.54584488e-258\n",
      "  1.63282721e-249 1.53208212e-258 5.81851558e-251 9.39202354e-249\n",
      "  4.58839577e-253 7.95705364e-253]\n",
      " [9.85859687e-253 2.36464254e-259 4.28421219e-255 1.95871922e-256\n",
      "  8.00646789e-248 5.45949975e-256 5.37530821e-253 7.36417543e-253\n",
      "  9.57823948e-250 1.48269896e-250]\n",
      " [2.39505936e-253 9.06748786e-257 1.96944949e-254 2.02681377e-259\n",
      "  2.94877624e-248 7.22713173e-259 8.88245753e-254 3.55128659e-251\n",
      "  5.72317283e-254 9.04699993e-249]]\n",
      "Gamma [[4.86403480e-10 1.45622882e-09 2.85161633e-11 2.05876369e-09\n",
      "  2.04423173e-04 4.73902735e-08 1.22059595e-07 1.84342852e-07\n",
      "  3.00606175e-07 9.38803977e-01]\n",
      " [9.63620047e-13 1.05908192e-09 2.69083360e-12 1.79128149e-09\n",
      "  1.24723586e-05 1.48955920e-13 3.72894741e-06 2.14021708e-06\n",
      "  3.30596052e-09 3.11413145e-06]\n",
      " [9.46616131e-10 7.91989379e-10 4.19993048e-08 2.11848825e-12\n",
      "  7.60942215e-04 7.13992238e-13 2.71158766e-05 4.37694027e-03\n",
      "  2.13831813e-07 3.70820499e-07]\n",
      " [4.59437623e-07 1.10198820e-13 1.99656025e-09 9.12816819e-11\n",
      "  3.73123338e-02 2.54427645e-10 2.50504088e-07 3.43190750e-07\n",
      "  4.46372200e-04 6.90978334e-05]\n",
      " [1.11616328e-07 4.22569775e-11 9.17817416e-09 9.44550743e-14\n",
      "  1.37421051e-02 3.36804138e-13 4.13946855e-08 1.65499684e-05\n",
      "  2.66715533e-08 4.21614982e-03]]\n"
     ]
    }
   ],
   "source": [
    "# Let's test on 5 datapoints\n",
    "n_test = 5\n",
    "X_test = bin_train_data[:n_test]\n",
    "D_test, K_test = X_test.shape[1], 10\n",
    "\n",
    "np.random.seed(2018)\n",
    "mu_test = np.random.uniform(low=.25, high=.75, size=(K_test,D_test))\n",
    "pi_test = np.ones(K_test) / K_test\n",
    "\n",
    "gamma_test = E_step(X_test, mu_test, pi_test)\n",
    "assert gamma_test.shape == (n_test, K_test)\n"
   ]
  },
  {
   "cell_type": "code",
   "execution_count": 156,
   "metadata": {
    "deletable": false,
    "nbgrader": {
     "checksum": "2c426a613653174795cd9c8327ab6e20",
     "grade": false,
     "grade_id": "cell-f1b11b8765bd1ef6",
     "locked": false,
     "schema_version": 1,
     "solution": true
    }
   },
   "outputs": [],
   "source": [
    "def M_step(X, gamma):\n",
    "    print(\"Performing M-step...\")\n",
    "    # Get number of clusters\n",
    "    K = gamma.shape[1]\n",
    "    #print(\"K\", K)\n",
    "    #print(\"gamma\", gamma.shape)\n",
    "    \n",
    "    # Get number of points per cluster by summing over all the points\n",
    "    Nk = np.sum(gamma, axis=0)\n",
    "    print(\"Nk\", Nk)\n",
    "    assert not numpy.isnan(Nk).any(), \"NaN in Nk\"\n",
    "    \n",
    "    # Get the (unnormalized) sum of data points times their gammas for all clusters\n",
    "    mus = np.array([X.T * gamma[:,k] for k in range(K)])\n",
    "    print(\"raw mu sums\", mus.shape)\n",
    "    mu_sums = np.sum([X.T * gamma[:,k] for k in range(K)], axis=2)\n",
    "    print(\"unnorm mu_sums\", mu_sums[mu_sums > 0])\n",
    "    assert not numpy.isnan(mu_sums).any(), \"NaN in mu_sums\"\n",
    "    print(\"mu sums\", mu_sums.shape)\n",
    "    #print(\"Nk\", Nk.shape)\n",
    "    \n",
    "    # Normalize mus\n",
    "    mu = mu_sums.T / Nk\n",
    "    mu = mu.T\n",
    "    #mu[np.isnan(mu)] = 0\n",
    "    assert not numpy.isnan(mu).any(), \"NaN in mu\"\n",
    "    print(\"mu\", mu[mu > 0], mu.shape)\n",
    "    \n",
    "    # Get cluster probabilities\n",
    "    print(\"Nk sum\", np.sum(Nk))\n",
    "    pi = Nk / np.sum(Nk)\n",
    "    assert not numpy.isnan(pi).any(), \"NaN in pi\"\n",
    "    print(\"pi\", pi)\n",
    "    \n",
    "    return mu, pi"
   ]
  },
  {
   "cell_type": "code",
   "execution_count": 157,
   "metadata": {
    "deletable": false,
    "editable": false,
    "nbgrader": {
     "checksum": "0f60d48b8b22063cef560b42944a0aa4",
     "grade": true,
     "grade_id": "cell-6e7c751b30acfd45",
     "locked": true,
     "points": 15,
     "schema_version": 1,
     "solution": false
    }
   },
   "outputs": [
    {
     "name": "stdout",
     "output_type": "stream",
     "text": [
      "Performing M-step...\n",
      "Nk [5.72487934e-07 3.34966729e-09 5.32052462e-08 3.94353981e-09\n",
      " 5.20322767e-02 4.76459009e-08 3.12587824e-05 4.39615799e-03\n",
      " 4.46916615e-04 9.43092709e-01]\n",
      "raw mu sums (10, 784, 5)\n",
      "unnorm mu_sums [9.63620047e-13 9.63620047e-13 9.63620047e-13 ... 4.21614982e-03\n",
      " 4.21614982e-03 4.21614982e-03]\n",
      "mu sums (10, 784)\n",
      "mu [1.68321460e-06 1.68321460e-06 1.68321460e-06 ... 4.47055711e-03\n",
      " 4.47055711e-03 4.47055711e-03] (10, 784)\n",
      "Nk sum 0.9999999999999998\n",
      "pi [5.72487934e-07 3.34966729e-09 5.32052462e-08 3.94353981e-09\n",
      " 5.20322767e-02 4.76459009e-08 3.12587824e-05 4.39615799e-03\n",
      " 4.46916615e-04 9.43092709e-01]\n"
     ]
    }
   ],
   "source": [
    "# Oh, let's test again\n",
    "mu_test, pi_test = M_step(X_test, gamma_test)\n",
    "\n",
    "assert mu_test.shape == (K_test,D_test)\n",
    "assert pi_test.shape == (K_test, )\n"
   ]
  },
  {
   "cell_type": "code",
   "execution_count": 158,
   "metadata": {
    "deletable": false,
    "nbgrader": {
     "checksum": "acfec6384b058cb0ce1932006fbfebc4",
     "grade": true,
     "grade_id": "cell-d6c4368246dee7e6",
     "locked": false,
     "points": 10,
     "schema_version": 1,
     "solution": true
    }
   },
   "outputs": [],
   "source": [
    "import time\n",
    "\n",
    "def EM(X, K, max_iter, mu=None, pi=None):\n",
    "    # Initialize everything\n",
    "    mu = np.random.uniform(low=0.25, high=0.75, size=(K, X.shape[1]))  # Probability of cluster generation this pixel\n",
    "    mu = numpy.divide(mu.T, np.sum(mu, axis=1))  # Normalize\n",
    "    mu = mu.T\n",
    "    pi = np.ones(K) / K # Mixture components\n",
    "    \n",
    "    for iteration in range(max_iter):\n",
    "        print(\"Starting iteration #{}...\".format(iteration+1))\n",
    "        start = time.time()\n",
    "        \n",
    "        gamma = E_step(X, mu, pi)\n",
    "        mu, pi = M_step(X, gamma)\n",
    "        \n",
    "        end = time.time()\n",
    "        duration = end - start\n",
    "        m, s = divmod(duration, 60)\n",
    "        print(\n",
    "            \"Iteration #{} took {} minute(s) and {:.2f} second(s).\\n\".format(iteration+1, m, s)\n",
    "        )\n",
    "        \n",
    "    return gamma, mu, pi"
   ]
  },
  {
   "cell_type": "markdown",
   "metadata": {
    "deletable": false,
    "editable": false,
    "nbgrader": {
     "checksum": "b4fc12faa0da660f7a4d9cc7deb41b25",
     "grade": false,
     "grade_id": "cell-e1077ed3b83489be",
     "locked": true,
     "schema_version": 1,
     "solution": false
    }
   },
   "source": [
    "### 1.3 Three digits experiment (10 points)\n",
    "In analogue with Bishop $\\S9.3.3$, sample a training set consisting of only __binary__ images of written digits $2$, $3$, and $4$. Run your EM algorithm and show the reconstructed digits."
   ]
  },
  {
   "cell_type": "code",
   "execution_count": 160,
   "metadata": {
    "deletable": false,
    "nbgrader": {
     "checksum": "bdbce0fad0ed151063d4c489ce999e3e",
     "grade": true,
     "grade_id": "cell-477155d0264d7259",
     "locked": false,
     "points": 5,
     "schema_version": 1,
     "solution": true
    }
   },
   "outputs": [
    {
     "name": "stdout",
     "output_type": "stream",
     "text": [
      "(600, 784)\n",
      "Starting iteration #1...\n",
      "Performing E-Step...\n",
      "[[0.00000000e+000 0.00000000e+000 0.00000000e+000]\n",
      " [0.00000000e+000 0.00000000e+000 0.00000000e+000]\n",
      " [0.00000000e+000 0.00000000e+000 0.00000000e+000]\n",
      " ...\n",
      " [8.36334066e-256 1.14370626e-253 7.56572219e-257]\n",
      " [3.79680170e-284 1.59836767e-282 4.08590294e-287]\n",
      " [3.31323666e-216 1.85964332e-217 7.45234710e-218]]\n",
      "Gamma [[0.00000000e+000 0.00000000e+000 0.00000000e+000]\n",
      " [0.00000000e+000 0.00000000e+000 0.00000000e+000]\n",
      " [0.00000000e+000 0.00000000e+000 0.00000000e+000]\n",
      " ...\n",
      " [1.32213318e-129 1.80804783e-127 1.19604029e-130]\n",
      " [6.00223968e-158 2.52680720e-156 6.45927038e-161]\n",
      " [5.23778752e-090 2.93984933e-091 1.17811719e-091]]\n",
      "Performing M-step...\n",
      "Nk [0.46525724 0.48070226 0.0540405 ]\n",
      "raw mu sums (3, 784, 600)\n",
      "unnorm mu_sums [5.86291008e-060 1.83550839e-138 1.83550839e-138 ... 2.44168784e-075\n",
      " 1.80266854e-194 9.22503743e-054]\n",
      "mu sums (3, 784)\n",
      "mu [1.26014376e-059 3.94514739e-138 3.94514739e-138 ... 4.51825518e-074\n",
      " 3.33577303e-193 1.70705986e-052] (3, 784)\n",
      "Nk sum 1.0\n",
      "pi [0.46525724 0.48070226 0.0540405 ]\n",
      "Iteration #1 took 0.0 minute(s) and 0.08 second(s).\n",
      "\n",
      "Starting iteration #2...\n",
      "Performing E-Step...\n",
      "[[0. 0. 0.]\n",
      " [0. 0. 0.]\n",
      " [0. 0. 0.]\n",
      " ...\n",
      " [0. 0. 0.]\n",
      " [0. 0. 0.]\n",
      " [0. 0. 0.]]\n",
      "Gamma [[0. 0. 0.]\n",
      " [0. 0. 0.]\n",
      " [0. 0. 0.]\n",
      " ...\n",
      " [0. 0. 0.]\n",
      " [0. 0. 0.]\n",
      " [0. 0. 0.]]\n",
      "Performing M-step...\n",
      "Nk [0.46525724 0.48070226 0.0540405 ]\n",
      "raw mu sums (3, 784, 600)\n",
      "unnorm mu_sums [0.46525724 0.46525724 0.46525724 0.46525724 0.46525724 0.46525724\n",
      " 0.46525724 0.46525724 0.46525724 0.46525724 0.46525724 0.46525724\n",
      " 0.46525724 0.46525724 0.46525724 0.46525724 0.46525724 0.46525724\n",
      " 0.46525724 0.46525724 0.46525724 0.46525724 0.46525724 0.46525724\n",
      " 0.46525724 0.46525724 0.46525724 0.46525724 0.46525724 0.46525724\n",
      " 0.46525724 0.46525724 0.46525724 0.46525724 0.46525724 0.46525724\n",
      " 0.46525724 0.46525724 0.46525724 0.46525724 0.46525724 0.46525724\n",
      " 0.46525724 0.48070226 0.48070226 0.48070226 0.48070226 0.48070226\n",
      " 0.48070226 0.48070226 0.48070226 0.48070226 0.48070226 0.48070226\n",
      " 0.48070226 0.48070226 0.48070226 0.48070226 0.48070226 0.48070226\n",
      " 0.48070226 0.48070226 0.48070226 0.48070226 0.48070226 0.48070226\n",
      " 0.48070226 0.48070226 0.48070226 0.48070226 0.48070226 0.48070226\n",
      " 0.48070226 0.48070226 0.48070226 0.48070226 0.48070226 0.48070226\n",
      " 0.48070226 0.48070226 0.48070226 0.48070226 0.48070226 0.48070226\n",
      " 0.48070226 0.48070226 0.0540405  0.0540405  0.0540405  0.0540405\n",
      " 0.0540405  0.0540405  0.0540405  0.0540405  0.0540405  0.0540405\n",
      " 0.0540405  0.0540405  0.0540405  0.0540405  0.0540405  0.0540405\n",
      " 0.0540405  0.0540405  0.0540405  0.0540405  0.0540405  0.0540405\n",
      " 0.0540405  0.0540405  0.0540405  0.0540405  0.0540405  0.0540405\n",
      " 0.0540405  0.0540405  0.0540405  0.0540405  0.0540405  0.0540405\n",
      " 0.0540405  0.0540405  0.0540405  0.0540405  0.0540405  0.0540405\n",
      " 0.0540405  0.0540405  0.0540405 ]\n",
      "mu sums (3, 784)\n",
      "mu [1. 1. 1. 1. 1. 1. 1. 1. 1. 1. 1. 1. 1. 1. 1. 1. 1. 1. 1. 1. 1. 1. 1. 1.\n",
      " 1. 1. 1. 1. 1. 1. 1. 1. 1. 1. 1. 1. 1. 1. 1. 1. 1. 1. 1. 1. 1. 1. 1. 1.\n",
      " 1. 1. 1. 1. 1. 1. 1. 1. 1. 1. 1. 1. 1. 1. 1. 1. 1. 1. 1. 1. 1. 1. 1. 1.\n",
      " 1. 1. 1. 1. 1. 1. 1. 1. 1. 1. 1. 1. 1. 1. 1. 1. 1. 1. 1. 1. 1. 1. 1. 1.\n",
      " 1. 1. 1. 1. 1. 1. 1. 1. 1. 1. 1. 1. 1. 1. 1. 1. 1. 1. 1. 1. 1. 1. 1. 1.\n",
      " 1. 1. 1. 1. 1. 1. 1. 1. 1.] (3, 784)\n",
      "Nk sum 1.0\n",
      "pi [0.46525724 0.48070226 0.0540405 ]\n",
      "Iteration #2 took 0.0 minute(s) and 0.06 second(s).\n",
      "\n",
      "Starting iteration #3...\n",
      "Performing E-Step...\n",
      "[[0. 0. 0.]\n",
      " [0. 0. 0.]\n",
      " [0. 0. 0.]\n",
      " ...\n",
      " [0. 0. 0.]\n",
      " [0. 0. 0.]\n",
      " [0. 0. 0.]]\n",
      "Gamma [[0. 0. 0.]\n",
      " [0. 0. 0.]\n",
      " [0. 0. 0.]\n",
      " ...\n",
      " [0. 0. 0.]\n",
      " [0. 0. 0.]\n",
      " [0. 0. 0.]]\n",
      "Performing M-step...\n",
      "Nk [0.46525724 0.48070226 0.0540405 ]\n",
      "raw mu sums (3, 784, 600)\n",
      "unnorm mu_sums [0.46525724 0.46525724 0.46525724 0.46525724 0.46525724 0.46525724\n",
      " 0.46525724 0.46525724 0.46525724 0.46525724 0.46525724 0.46525724\n",
      " 0.46525724 0.46525724 0.46525724 0.46525724 0.46525724 0.46525724\n",
      " 0.46525724 0.46525724 0.46525724 0.46525724 0.46525724 0.46525724\n",
      " 0.46525724 0.46525724 0.46525724 0.46525724 0.46525724 0.46525724\n",
      " 0.46525724 0.46525724 0.46525724 0.46525724 0.46525724 0.46525724\n",
      " 0.46525724 0.46525724 0.46525724 0.46525724 0.46525724 0.46525724\n",
      " 0.46525724 0.48070226 0.48070226 0.48070226 0.48070226 0.48070226\n",
      " 0.48070226 0.48070226 0.48070226 0.48070226 0.48070226 0.48070226\n",
      " 0.48070226 0.48070226 0.48070226 0.48070226 0.48070226 0.48070226\n",
      " 0.48070226 0.48070226 0.48070226 0.48070226 0.48070226 0.48070226\n",
      " 0.48070226 0.48070226 0.48070226 0.48070226 0.48070226 0.48070226\n",
      " 0.48070226 0.48070226 0.48070226 0.48070226 0.48070226 0.48070226\n",
      " 0.48070226 0.48070226 0.48070226 0.48070226 0.48070226 0.48070226\n",
      " 0.48070226 0.48070226 0.0540405  0.0540405  0.0540405  0.0540405\n",
      " 0.0540405  0.0540405  0.0540405  0.0540405  0.0540405  0.0540405\n",
      " 0.0540405  0.0540405  0.0540405  0.0540405  0.0540405  0.0540405\n",
      " 0.0540405  0.0540405  0.0540405  0.0540405  0.0540405  0.0540405\n",
      " 0.0540405  0.0540405  0.0540405  0.0540405  0.0540405  0.0540405\n",
      " 0.0540405  0.0540405  0.0540405  0.0540405  0.0540405  0.0540405\n",
      " 0.0540405  0.0540405  0.0540405  0.0540405  0.0540405  0.0540405\n",
      " 0.0540405  0.0540405  0.0540405 ]\n",
      "mu sums (3, 784)\n",
      "mu [1. 1. 1. 1. 1. 1. 1. 1. 1. 1. 1. 1. 1. 1. 1. 1. 1. 1. 1. 1. 1. 1. 1. 1.\n",
      " 1. 1. 1. 1. 1. 1. 1. 1. 1. 1. 1. 1. 1. 1. 1. 1. 1. 1. 1. 1. 1. 1. 1. 1.\n",
      " 1. 1. 1. 1. 1. 1. 1. 1. 1. 1. 1. 1. 1. 1. 1. 1. 1. 1. 1. 1. 1. 1. 1. 1.\n",
      " 1. 1. 1. 1. 1. 1. 1. 1. 1. 1. 1. 1. 1. 1. 1. 1. 1. 1. 1. 1. 1. 1. 1. 1.\n",
      " 1. 1. 1. 1. 1. 1. 1. 1. 1. 1. 1. 1. 1. 1. 1. 1. 1. 1. 1. 1. 1. 1. 1. 1.\n",
      " 1. 1. 1. 1. 1. 1. 1. 1. 1.] (3, 784)\n",
      "Nk sum 1.0\n",
      "pi [0.46525724 0.48070226 0.0540405 ]\n",
      "Iteration #3 took 0.0 minute(s) and 0.04 second(s).\n",
      "\n",
      "Starting iteration #4...\n",
      "Performing E-Step...\n",
      "[[0. 0. 0.]\n",
      " [0. 0. 0.]\n",
      " [0. 0. 0.]\n",
      " ...\n",
      " [0. 0. 0.]\n",
      " [0. 0. 0.]\n",
      " [0. 0. 0.]]\n",
      "Gamma [[0. 0. 0.]\n",
      " [0. 0. 0.]\n",
      " [0. 0. 0.]\n",
      " ...\n",
      " [0. 0. 0.]\n",
      " [0. 0. 0.]\n",
      " [0. 0. 0.]]\n",
      "Performing M-step...\n",
      "Nk [0.46525724 0.48070226 0.0540405 ]\n",
      "raw mu sums (3, 784, 600)\n",
      "unnorm mu_sums [0.46525724 0.46525724 0.46525724 0.46525724 0.46525724 0.46525724\n",
      " 0.46525724 0.46525724 0.46525724 0.46525724 0.46525724 0.46525724\n",
      " 0.46525724 0.46525724 0.46525724 0.46525724 0.46525724 0.46525724\n",
      " 0.46525724 0.46525724 0.46525724 0.46525724 0.46525724 0.46525724\n",
      " 0.46525724 0.46525724 0.46525724 0.46525724 0.46525724 0.46525724\n",
      " 0.46525724 0.46525724 0.46525724 0.46525724 0.46525724 0.46525724\n",
      " 0.46525724 0.46525724 0.46525724 0.46525724 0.46525724 0.46525724\n",
      " 0.46525724 0.48070226 0.48070226 0.48070226 0.48070226 0.48070226\n",
      " 0.48070226 0.48070226 0.48070226 0.48070226 0.48070226 0.48070226\n",
      " 0.48070226 0.48070226 0.48070226 0.48070226 0.48070226 0.48070226\n",
      " 0.48070226 0.48070226 0.48070226 0.48070226 0.48070226 0.48070226\n",
      " 0.48070226 0.48070226 0.48070226 0.48070226 0.48070226 0.48070226\n",
      " 0.48070226 0.48070226 0.48070226 0.48070226 0.48070226 0.48070226\n",
      " 0.48070226 0.48070226 0.48070226 0.48070226 0.48070226 0.48070226\n",
      " 0.48070226 0.48070226 0.0540405  0.0540405  0.0540405  0.0540405\n",
      " 0.0540405  0.0540405  0.0540405  0.0540405  0.0540405  0.0540405\n",
      " 0.0540405  0.0540405  0.0540405  0.0540405  0.0540405  0.0540405\n",
      " 0.0540405  0.0540405  0.0540405  0.0540405  0.0540405  0.0540405\n",
      " 0.0540405  0.0540405  0.0540405  0.0540405  0.0540405  0.0540405\n",
      " 0.0540405  0.0540405  0.0540405  0.0540405  0.0540405  0.0540405\n",
      " 0.0540405  0.0540405  0.0540405  0.0540405  0.0540405  0.0540405\n",
      " 0.0540405  0.0540405  0.0540405 ]\n",
      "mu sums (3, 784)\n",
      "mu [1. 1. 1. 1. 1. 1. 1. 1. 1. 1. 1. 1. 1. 1. 1. 1. 1. 1. 1. 1. 1. 1. 1. 1.\n",
      " 1. 1. 1. 1. 1. 1. 1. 1. 1. 1. 1. 1. 1. 1. 1. 1. 1. 1. 1. 1. 1. 1. 1. 1.\n",
      " 1. 1. 1. 1. 1. 1. 1. 1. 1. 1. 1. 1. 1. 1. 1. 1. 1. 1. 1. 1. 1. 1. 1. 1.\n",
      " 1. 1. 1. 1. 1. 1. 1. 1. 1. 1. 1. 1. 1. 1. 1. 1. 1. 1. 1. 1. 1. 1. 1. 1.\n",
      " 1. 1. 1. 1. 1. 1. 1. 1. 1. 1. 1. 1. 1. 1. 1. 1. 1. 1. 1. 1. 1. 1. 1. 1.\n",
      " 1. 1. 1. 1. 1. 1. 1. 1. 1.] (3, 784)\n",
      "Nk sum 1.0\n",
      "pi [0.46525724 0.48070226 0.0540405 ]\n",
      "Iteration #4 took 0.0 minute(s) and 0.05 second(s).\n",
      "\n",
      "Starting iteration #5...\n",
      "Performing E-Step...\n",
      "[[0. 0. 0.]\n",
      " [0. 0. 0.]\n",
      " [0. 0. 0.]\n",
      " ...\n",
      " [0. 0. 0.]\n",
      " [0. 0. 0.]\n",
      " [0. 0. 0.]]\n",
      "Gamma [[0. 0. 0.]\n",
      " [0. 0. 0.]\n",
      " [0. 0. 0.]\n",
      " ...\n",
      " [0. 0. 0.]\n",
      " [0. 0. 0.]\n",
      " [0. 0. 0.]]\n",
      "Performing M-step...\n",
      "Nk [0.46525724 0.48070226 0.0540405 ]\n",
      "raw mu sums (3, 784, 600)\n",
      "unnorm mu_sums [0.46525724 0.46525724 0.46525724 0.46525724 0.46525724 0.46525724\n",
      " 0.46525724 0.46525724 0.46525724 0.46525724 0.46525724 0.46525724\n",
      " 0.46525724 0.46525724 0.46525724 0.46525724 0.46525724 0.46525724\n",
      " 0.46525724 0.46525724 0.46525724 0.46525724 0.46525724 0.46525724\n",
      " 0.46525724 0.46525724 0.46525724 0.46525724 0.46525724 0.46525724\n",
      " 0.46525724 0.46525724 0.46525724 0.46525724 0.46525724 0.46525724\n",
      " 0.46525724 0.46525724 0.46525724 0.46525724 0.46525724 0.46525724\n",
      " 0.46525724 0.48070226 0.48070226 0.48070226 0.48070226 0.48070226\n",
      " 0.48070226 0.48070226 0.48070226 0.48070226 0.48070226 0.48070226\n",
      " 0.48070226 0.48070226 0.48070226 0.48070226 0.48070226 0.48070226\n",
      " 0.48070226 0.48070226 0.48070226 0.48070226 0.48070226 0.48070226\n",
      " 0.48070226 0.48070226 0.48070226 0.48070226 0.48070226 0.48070226\n",
      " 0.48070226 0.48070226 0.48070226 0.48070226 0.48070226 0.48070226\n",
      " 0.48070226 0.48070226 0.48070226 0.48070226 0.48070226 0.48070226\n",
      " 0.48070226 0.48070226 0.0540405  0.0540405  0.0540405  0.0540405\n",
      " 0.0540405  0.0540405  0.0540405  0.0540405  0.0540405  0.0540405\n",
      " 0.0540405  0.0540405  0.0540405  0.0540405  0.0540405  0.0540405\n",
      " 0.0540405  0.0540405  0.0540405  0.0540405  0.0540405  0.0540405\n",
      " 0.0540405  0.0540405  0.0540405  0.0540405  0.0540405  0.0540405\n",
      " 0.0540405  0.0540405  0.0540405  0.0540405  0.0540405  0.0540405\n",
      " 0.0540405  0.0540405  0.0540405  0.0540405  0.0540405  0.0540405\n",
      " 0.0540405  0.0540405  0.0540405 ]\n",
      "mu sums (3, 784)\n",
      "mu [1. 1. 1. 1. 1. 1. 1. 1. 1. 1. 1. 1. 1. 1. 1. 1. 1. 1. 1. 1. 1. 1. 1. 1.\n",
      " 1. 1. 1. 1. 1. 1. 1. 1. 1. 1. 1. 1. 1. 1. 1. 1. 1. 1. 1. 1. 1. 1. 1. 1.\n",
      " 1. 1. 1. 1. 1. 1. 1. 1. 1. 1. 1. 1. 1. 1. 1. 1. 1. 1. 1. 1. 1. 1. 1. 1.\n",
      " 1. 1. 1. 1. 1. 1. 1. 1. 1. 1. 1. 1. 1. 1. 1. 1. 1. 1. 1. 1. 1. 1. 1. 1.\n",
      " 1. 1. 1. 1. 1. 1. 1. 1. 1. 1. 1. 1. 1. 1. 1. 1. 1. 1. 1. 1. 1. 1. 1. 1.\n",
      " 1. 1. 1. 1. 1. 1. 1. 1. 1.] (3, 784)\n",
      "Nk sum 1.0\n",
      "pi [0.46525724 0.48070226 0.0540405 ]\n",
      "Iteration #5 took 0.0 minute(s) and 0.05 second(s).\n",
      "\n",
      "Starting iteration #6...\n",
      "Performing E-Step...\n",
      "[[0. 0. 0.]\n",
      " [0. 0. 0.]\n",
      " [0. 0. 0.]\n",
      " ...\n",
      " [0. 0. 0.]\n",
      " [0. 0. 0.]\n",
      " [0. 0. 0.]]\n",
      "Gamma [[0. 0. 0.]\n",
      " [0. 0. 0.]\n",
      " [0. 0. 0.]\n",
      " ...\n",
      " [0. 0. 0.]\n",
      " [0. 0. 0.]\n",
      " [0. 0. 0.]]\n",
      "Performing M-step...\n",
      "Nk [0.46525724 0.48070226 0.0540405 ]\n",
      "raw mu sums (3, 784, 600)\n",
      "unnorm mu_sums [0.46525724 0.46525724 0.46525724 0.46525724 0.46525724 0.46525724\n",
      " 0.46525724 0.46525724 0.46525724 0.46525724 0.46525724 0.46525724\n",
      " 0.46525724 0.46525724 0.46525724 0.46525724 0.46525724 0.46525724\n",
      " 0.46525724 0.46525724 0.46525724 0.46525724 0.46525724 0.46525724\n",
      " 0.46525724 0.46525724 0.46525724 0.46525724 0.46525724 0.46525724\n",
      " 0.46525724 0.46525724 0.46525724 0.46525724 0.46525724 0.46525724\n",
      " 0.46525724 0.46525724 0.46525724 0.46525724 0.46525724 0.46525724\n",
      " 0.46525724 0.48070226 0.48070226 0.48070226 0.48070226 0.48070226\n",
      " 0.48070226 0.48070226 0.48070226 0.48070226 0.48070226 0.48070226\n",
      " 0.48070226 0.48070226 0.48070226 0.48070226 0.48070226 0.48070226\n",
      " 0.48070226 0.48070226 0.48070226 0.48070226 0.48070226 0.48070226\n",
      " 0.48070226 0.48070226 0.48070226 0.48070226 0.48070226 0.48070226\n",
      " 0.48070226 0.48070226 0.48070226 0.48070226 0.48070226 0.48070226\n",
      " 0.48070226 0.48070226 0.48070226 0.48070226 0.48070226 0.48070226\n",
      " 0.48070226 0.48070226 0.0540405  0.0540405  0.0540405  0.0540405\n",
      " 0.0540405  0.0540405  0.0540405  0.0540405  0.0540405  0.0540405\n",
      " 0.0540405  0.0540405  0.0540405  0.0540405  0.0540405  0.0540405\n",
      " 0.0540405  0.0540405  0.0540405  0.0540405  0.0540405  0.0540405\n",
      " 0.0540405  0.0540405  0.0540405  0.0540405  0.0540405  0.0540405\n",
      " 0.0540405  0.0540405  0.0540405  0.0540405  0.0540405  0.0540405\n",
      " 0.0540405  0.0540405  0.0540405  0.0540405  0.0540405  0.0540405\n",
      " 0.0540405  0.0540405  0.0540405 ]\n",
      "mu sums (3, 784)\n",
      "mu [1. 1. 1. 1. 1. 1. 1. 1. 1. 1. 1. 1. 1. 1. 1. 1. 1. 1. 1. 1. 1. 1. 1. 1.\n",
      " 1. 1. 1. 1. 1. 1. 1. 1. 1. 1. 1. 1. 1. 1. 1. 1. 1. 1. 1. 1. 1. 1. 1. 1.\n",
      " 1. 1. 1. 1. 1. 1. 1. 1. 1. 1. 1. 1. 1. 1. 1. 1. 1. 1. 1. 1. 1. 1. 1. 1.\n",
      " 1. 1. 1. 1. 1. 1. 1. 1. 1. 1. 1. 1. 1. 1. 1. 1. 1. 1. 1. 1. 1. 1. 1. 1.\n",
      " 1. 1. 1. 1. 1. 1. 1. 1. 1. 1. 1. 1. 1. 1. 1. 1. 1. 1. 1. 1. 1. 1. 1. 1.\n",
      " 1. 1. 1. 1. 1. 1. 1. 1. 1.] (3, 784)\n",
      "Nk sum 1.0\n",
      "pi [0.46525724 0.48070226 0.0540405 ]\n",
      "Iteration #6 took 0.0 minute(s) and 0.05 second(s).\n",
      "\n",
      "Starting iteration #7...\n",
      "Performing E-Step...\n",
      "[[0. 0. 0.]\n",
      " [0. 0. 0.]\n",
      " [0. 0. 0.]\n",
      " ...\n",
      " [0. 0. 0.]\n",
      " [0. 0. 0.]\n",
      " [0. 0. 0.]]\n",
      "Gamma [[0. 0. 0.]\n",
      " [0. 0. 0.]\n",
      " [0. 0. 0.]\n",
      " ...\n",
      " [0. 0. 0.]\n",
      " [0. 0. 0.]\n",
      " [0. 0. 0.]]\n",
      "Performing M-step...\n",
      "Nk [0.46525724 0.48070226 0.0540405 ]\n",
      "raw mu sums (3, 784, 600)\n",
      "unnorm mu_sums [0.46525724 0.46525724 0.46525724 0.46525724 0.46525724 0.46525724\n",
      " 0.46525724 0.46525724 0.46525724 0.46525724 0.46525724 0.46525724\n",
      " 0.46525724 0.46525724 0.46525724 0.46525724 0.46525724 0.46525724\n",
      " 0.46525724 0.46525724 0.46525724 0.46525724 0.46525724 0.46525724\n",
      " 0.46525724 0.46525724 0.46525724 0.46525724 0.46525724 0.46525724\n",
      " 0.46525724 0.46525724 0.46525724 0.46525724 0.46525724 0.46525724\n",
      " 0.46525724 0.46525724 0.46525724 0.46525724 0.46525724 0.46525724\n",
      " 0.46525724 0.48070226 0.48070226 0.48070226 0.48070226 0.48070226\n",
      " 0.48070226 0.48070226 0.48070226 0.48070226 0.48070226 0.48070226\n",
      " 0.48070226 0.48070226 0.48070226 0.48070226 0.48070226 0.48070226\n",
      " 0.48070226 0.48070226 0.48070226 0.48070226 0.48070226 0.48070226\n",
      " 0.48070226 0.48070226 0.48070226 0.48070226 0.48070226 0.48070226\n",
      " 0.48070226 0.48070226 0.48070226 0.48070226 0.48070226 0.48070226\n",
      " 0.48070226 0.48070226 0.48070226 0.48070226 0.48070226 0.48070226\n",
      " 0.48070226 0.48070226 0.0540405  0.0540405  0.0540405  0.0540405\n",
      " 0.0540405  0.0540405  0.0540405  0.0540405  0.0540405  0.0540405\n",
      " 0.0540405  0.0540405  0.0540405  0.0540405  0.0540405  0.0540405\n",
      " 0.0540405  0.0540405  0.0540405  0.0540405  0.0540405  0.0540405\n",
      " 0.0540405  0.0540405  0.0540405  0.0540405  0.0540405  0.0540405\n",
      " 0.0540405  0.0540405  0.0540405  0.0540405  0.0540405  0.0540405\n",
      " 0.0540405  0.0540405  0.0540405  0.0540405  0.0540405  0.0540405\n",
      " 0.0540405  0.0540405  0.0540405 ]\n",
      "mu sums (3, 784)\n",
      "mu [1. 1. 1. 1. 1. 1. 1. 1. 1. 1. 1. 1. 1. 1. 1. 1. 1. 1. 1. 1. 1. 1. 1. 1.\n",
      " 1. 1. 1. 1. 1. 1. 1. 1. 1. 1. 1. 1. 1. 1. 1. 1. 1. 1. 1. 1. 1. 1. 1. 1.\n",
      " 1. 1. 1. 1. 1. 1. 1. 1. 1. 1. 1. 1. 1. 1. 1. 1. 1. 1. 1. 1. 1. 1. 1. 1.\n",
      " 1. 1. 1. 1. 1. 1. 1. 1. 1. 1. 1. 1. 1. 1. 1. 1. 1. 1. 1. 1. 1. 1. 1. 1.\n",
      " 1. 1. 1. 1. 1. 1. 1. 1. 1. 1. 1. 1. 1. 1. 1. 1. 1. 1. 1. 1. 1. 1. 1. 1.\n",
      " 1. 1. 1. 1. 1. 1. 1. 1. 1.] (3, 784)\n",
      "Nk sum 1.0\n",
      "pi [0.46525724 0.48070226 0.0540405 ]\n",
      "Iteration #7 took 0.0 minute(s) and 0.06 second(s).\n",
      "\n",
      "Starting iteration #8...\n",
      "Performing E-Step...\n"
     ]
    },
    {
     "name": "stdout",
     "output_type": "stream",
     "text": [
      "[[0. 0. 0.]\n",
      " [0. 0. 0.]\n",
      " [0. 0. 0.]\n",
      " ...\n",
      " [0. 0. 0.]\n",
      " [0. 0. 0.]\n",
      " [0. 0. 0.]]\n",
      "Gamma [[0. 0. 0.]\n",
      " [0. 0. 0.]\n",
      " [0. 0. 0.]\n",
      " ...\n",
      " [0. 0. 0.]\n",
      " [0. 0. 0.]\n",
      " [0. 0. 0.]]\n",
      "Performing M-step...\n",
      "Nk [0.46525724 0.48070226 0.0540405 ]\n",
      "raw mu sums (3, 784, 600)\n",
      "unnorm mu_sums [0.46525724 0.46525724 0.46525724 0.46525724 0.46525724 0.46525724\n",
      " 0.46525724 0.46525724 0.46525724 0.46525724 0.46525724 0.46525724\n",
      " 0.46525724 0.46525724 0.46525724 0.46525724 0.46525724 0.46525724\n",
      " 0.46525724 0.46525724 0.46525724 0.46525724 0.46525724 0.46525724\n",
      " 0.46525724 0.46525724 0.46525724 0.46525724 0.46525724 0.46525724\n",
      " 0.46525724 0.46525724 0.46525724 0.46525724 0.46525724 0.46525724\n",
      " 0.46525724 0.46525724 0.46525724 0.46525724 0.46525724 0.46525724\n",
      " 0.46525724 0.48070226 0.48070226 0.48070226 0.48070226 0.48070226\n",
      " 0.48070226 0.48070226 0.48070226 0.48070226 0.48070226 0.48070226\n",
      " 0.48070226 0.48070226 0.48070226 0.48070226 0.48070226 0.48070226\n",
      " 0.48070226 0.48070226 0.48070226 0.48070226 0.48070226 0.48070226\n",
      " 0.48070226 0.48070226 0.48070226 0.48070226 0.48070226 0.48070226\n",
      " 0.48070226 0.48070226 0.48070226 0.48070226 0.48070226 0.48070226\n",
      " 0.48070226 0.48070226 0.48070226 0.48070226 0.48070226 0.48070226\n",
      " 0.48070226 0.48070226 0.0540405  0.0540405  0.0540405  0.0540405\n",
      " 0.0540405  0.0540405  0.0540405  0.0540405  0.0540405  0.0540405\n",
      " 0.0540405  0.0540405  0.0540405  0.0540405  0.0540405  0.0540405\n",
      " 0.0540405  0.0540405  0.0540405  0.0540405  0.0540405  0.0540405\n",
      " 0.0540405  0.0540405  0.0540405  0.0540405  0.0540405  0.0540405\n",
      " 0.0540405  0.0540405  0.0540405  0.0540405  0.0540405  0.0540405\n",
      " 0.0540405  0.0540405  0.0540405  0.0540405  0.0540405  0.0540405\n",
      " 0.0540405  0.0540405  0.0540405 ]\n",
      "mu sums (3, 784)\n",
      "mu [1. 1. 1. 1. 1. 1. 1. 1. 1. 1. 1. 1. 1. 1. 1. 1. 1. 1. 1. 1. 1. 1. 1. 1.\n",
      " 1. 1. 1. 1. 1. 1. 1. 1. 1. 1. 1. 1. 1. 1. 1. 1. 1. 1. 1. 1. 1. 1. 1. 1.\n",
      " 1. 1. 1. 1. 1. 1. 1. 1. 1. 1. 1. 1. 1. 1. 1. 1. 1. 1. 1. 1. 1. 1. 1. 1.\n",
      " 1. 1. 1. 1. 1. 1. 1. 1. 1. 1. 1. 1. 1. 1. 1. 1. 1. 1. 1. 1. 1. 1. 1. 1.\n",
      " 1. 1. 1. 1. 1. 1. 1. 1. 1. 1. 1. 1. 1. 1. 1. 1. 1. 1. 1. 1. 1. 1. 1. 1.\n",
      " 1. 1. 1. 1. 1. 1. 1. 1. 1.] (3, 784)\n",
      "Nk sum 1.0\n",
      "pi [0.46525724 0.48070226 0.0540405 ]\n",
      "Iteration #8 took 0.0 minute(s) and 0.04 second(s).\n",
      "\n",
      "Starting iteration #9...\n",
      "Performing E-Step...\n",
      "[[0. 0. 0.]\n",
      " [0. 0. 0.]\n",
      " [0. 0. 0.]\n",
      " ...\n",
      " [0. 0. 0.]\n",
      " [0. 0. 0.]\n",
      " [0. 0. 0.]]\n",
      "Gamma [[0. 0. 0.]\n",
      " [0. 0. 0.]\n",
      " [0. 0. 0.]\n",
      " ...\n",
      " [0. 0. 0.]\n",
      " [0. 0. 0.]\n",
      " [0. 0. 0.]]\n",
      "Performing M-step...\n",
      "Nk [0.46525724 0.48070226 0.0540405 ]\n",
      "raw mu sums (3, 784, 600)\n",
      "unnorm mu_sums [0.46525724 0.46525724 0.46525724 0.46525724 0.46525724 0.46525724\n",
      " 0.46525724 0.46525724 0.46525724 0.46525724 0.46525724 0.46525724\n",
      " 0.46525724 0.46525724 0.46525724 0.46525724 0.46525724 0.46525724\n",
      " 0.46525724 0.46525724 0.46525724 0.46525724 0.46525724 0.46525724\n",
      " 0.46525724 0.46525724 0.46525724 0.46525724 0.46525724 0.46525724\n",
      " 0.46525724 0.46525724 0.46525724 0.46525724 0.46525724 0.46525724\n",
      " 0.46525724 0.46525724 0.46525724 0.46525724 0.46525724 0.46525724\n",
      " 0.46525724 0.48070226 0.48070226 0.48070226 0.48070226 0.48070226\n",
      " 0.48070226 0.48070226 0.48070226 0.48070226 0.48070226 0.48070226\n",
      " 0.48070226 0.48070226 0.48070226 0.48070226 0.48070226 0.48070226\n",
      " 0.48070226 0.48070226 0.48070226 0.48070226 0.48070226 0.48070226\n",
      " 0.48070226 0.48070226 0.48070226 0.48070226 0.48070226 0.48070226\n",
      " 0.48070226 0.48070226 0.48070226 0.48070226 0.48070226 0.48070226\n",
      " 0.48070226 0.48070226 0.48070226 0.48070226 0.48070226 0.48070226\n",
      " 0.48070226 0.48070226 0.0540405  0.0540405  0.0540405  0.0540405\n",
      " 0.0540405  0.0540405  0.0540405  0.0540405  0.0540405  0.0540405\n",
      " 0.0540405  0.0540405  0.0540405  0.0540405  0.0540405  0.0540405\n",
      " 0.0540405  0.0540405  0.0540405  0.0540405  0.0540405  0.0540405\n",
      " 0.0540405  0.0540405  0.0540405  0.0540405  0.0540405  0.0540405\n",
      " 0.0540405  0.0540405  0.0540405  0.0540405  0.0540405  0.0540405\n",
      " 0.0540405  0.0540405  0.0540405  0.0540405  0.0540405  0.0540405\n",
      " 0.0540405  0.0540405  0.0540405 ]\n",
      "mu sums (3, 784)\n",
      "mu [1. 1. 1. 1. 1. 1. 1. 1. 1. 1. 1. 1. 1. 1. 1. 1. 1. 1. 1. 1. 1. 1. 1. 1.\n",
      " 1. 1. 1. 1. 1. 1. 1. 1. 1. 1. 1. 1. 1. 1. 1. 1. 1. 1. 1. 1. 1. 1. 1. 1.\n",
      " 1. 1. 1. 1. 1. 1. 1. 1. 1. 1. 1. 1. 1. 1. 1. 1. 1. 1. 1. 1. 1. 1. 1. 1.\n",
      " 1. 1. 1. 1. 1. 1. 1. 1. 1. 1. 1. 1. 1. 1. 1. 1. 1. 1. 1. 1. 1. 1. 1. 1.\n",
      " 1. 1. 1. 1. 1. 1. 1. 1. 1. 1. 1. 1. 1. 1. 1. 1. 1. 1. 1. 1. 1. 1. 1. 1.\n",
      " 1. 1. 1. 1. 1. 1. 1. 1. 1.] (3, 784)\n",
      "Nk sum 1.0\n",
      "pi [0.46525724 0.48070226 0.0540405 ]\n",
      "Iteration #9 took 0.0 minute(s) and 0.05 second(s).\n",
      "\n",
      "Starting iteration #10...\n",
      "Performing E-Step...\n",
      "[[0. 0. 0.]\n",
      " [0. 0. 0.]\n",
      " [0. 0. 0.]\n",
      " ...\n",
      " [0. 0. 0.]\n",
      " [0. 0. 0.]\n",
      " [0. 0. 0.]]\n",
      "Gamma [[0. 0. 0.]\n",
      " [0. 0. 0.]\n",
      " [0. 0. 0.]\n",
      " ...\n",
      " [0. 0. 0.]\n",
      " [0. 0. 0.]\n",
      " [0. 0. 0.]]\n",
      "Performing M-step...\n",
      "Nk [0.46525724 0.48070226 0.0540405 ]\n",
      "raw mu sums (3, 784, 600)\n",
      "unnorm mu_sums [0.46525724 0.46525724 0.46525724 0.46525724 0.46525724 0.46525724\n",
      " 0.46525724 0.46525724 0.46525724 0.46525724 0.46525724 0.46525724\n",
      " 0.46525724 0.46525724 0.46525724 0.46525724 0.46525724 0.46525724\n",
      " 0.46525724 0.46525724 0.46525724 0.46525724 0.46525724 0.46525724\n",
      " 0.46525724 0.46525724 0.46525724 0.46525724 0.46525724 0.46525724\n",
      " 0.46525724 0.46525724 0.46525724 0.46525724 0.46525724 0.46525724\n",
      " 0.46525724 0.46525724 0.46525724 0.46525724 0.46525724 0.46525724\n",
      " 0.46525724 0.48070226 0.48070226 0.48070226 0.48070226 0.48070226\n",
      " 0.48070226 0.48070226 0.48070226 0.48070226 0.48070226 0.48070226\n",
      " 0.48070226 0.48070226 0.48070226 0.48070226 0.48070226 0.48070226\n",
      " 0.48070226 0.48070226 0.48070226 0.48070226 0.48070226 0.48070226\n",
      " 0.48070226 0.48070226 0.48070226 0.48070226 0.48070226 0.48070226\n",
      " 0.48070226 0.48070226 0.48070226 0.48070226 0.48070226 0.48070226\n",
      " 0.48070226 0.48070226 0.48070226 0.48070226 0.48070226 0.48070226\n",
      " 0.48070226 0.48070226 0.0540405  0.0540405  0.0540405  0.0540405\n",
      " 0.0540405  0.0540405  0.0540405  0.0540405  0.0540405  0.0540405\n",
      " 0.0540405  0.0540405  0.0540405  0.0540405  0.0540405  0.0540405\n",
      " 0.0540405  0.0540405  0.0540405  0.0540405  0.0540405  0.0540405\n",
      " 0.0540405  0.0540405  0.0540405  0.0540405  0.0540405  0.0540405\n",
      " 0.0540405  0.0540405  0.0540405  0.0540405  0.0540405  0.0540405\n",
      " 0.0540405  0.0540405  0.0540405  0.0540405  0.0540405  0.0540405\n",
      " 0.0540405  0.0540405  0.0540405 ]\n",
      "mu sums (3, 784)\n",
      "mu [1. 1. 1. 1. 1. 1. 1. 1. 1. 1. 1. 1. 1. 1. 1. 1. 1. 1. 1. 1. 1. 1. 1. 1.\n",
      " 1. 1. 1. 1. 1. 1. 1. 1. 1. 1. 1. 1. 1. 1. 1. 1. 1. 1. 1. 1. 1. 1. 1. 1.\n",
      " 1. 1. 1. 1. 1. 1. 1. 1. 1. 1. 1. 1. 1. 1. 1. 1. 1. 1. 1. 1. 1. 1. 1. 1.\n",
      " 1. 1. 1. 1. 1. 1. 1. 1. 1. 1. 1. 1. 1. 1. 1. 1. 1. 1. 1. 1. 1. 1. 1. 1.\n",
      " 1. 1. 1. 1. 1. 1. 1. 1. 1. 1. 1. 1. 1. 1. 1. 1. 1. 1. 1. 1. 1. 1. 1. 1.\n",
      " 1. 1. 1. 1. 1. 1. 1. 1. 1.] (3, 784)\n",
      "Nk sum 1.0\n",
      "pi [0.46525724 0.48070226 0.0540405 ]\n",
      "Iteration #10 took 0.0 minute(s) and 0.04 second(s).\n",
      "\n",
      "Pi [0.46525724 0.48070226 0.0540405 ]\n"
     ]
    },
    {
     "data": {
      "image/png": "[encoded data removed]",
      "text/plain": [
       "<Figure size 432x288 with 3 Axes>"
      ]
     },
     "metadata": {},
     "output_type": "display_data"
    }
   ],
   "source": [
    "import matplotlib.pyplot as plt\n",
    "\n",
    "def create_digits_train_data(train_data, train_labels, digits, size):\n",
    "    digits_train_data = []\n",
    "    \n",
    "    for digit in digits:\n",
    "        digit_indices = np.where(train_labels == digit)[0]\n",
    "        sampled_indices = sample(list(digit_indices), k=int(size/len(digits)))\n",
    "        digit_samples = train_data[sampled_indices]\n",
    "        digits_train_data.append(digit_samples)\n",
    "    \n",
    "    return np.concatenate(digits_train_data)\n",
    "\n",
    "three_digits = [2, 3, 4]\n",
    "three_digits_train = create_digits_train_data(bin_train_data, train_labels, three_digits, size=600)\n",
    "print(three_digits_train.shape)\n",
    "\n",
    "gamma, mu, pi = EM(three_digits_train, len(three_digits), max_iter=10)\n",
    "print(\"Pi\", pi)\n",
    "\n",
    "fig1 = plt.figure()\n",
    "for mu_index in range(mu.shape[0]):\n",
    "    ax = fig1.add_subplot(1, mu.shape[0], mu_index+1)\n",
    "    current_mu = mu[mu_index, :].reshape(28, 28)\n",
    "    ax.imshow(current_mu, cmap='hot', interpolation='nearest')\n",
    "plt.show()"
   ]
  },
  {
   "cell_type": "markdown",
   "metadata": {
    "deletable": false,
    "editable": false,
    "nbgrader": {
     "checksum": "485543f4893938d2a9dc1c17d8221cbc",
     "grade": false,
     "grade_id": "cell-88c9664f995b1909",
     "locked": true,
     "schema_version": 1,
     "solution": false
    }
   },
   "source": [
    "Can you identify which element in the latent space corresponds to which digit? What are the identified mixing coefficients for digits $2$, $3$ and $4$, and how do these compare to the true ones?"
   ]
  },
  {
   "cell_type": "markdown",
   "metadata": {
    "deletable": false,
    "nbgrader": {
     "checksum": "ae7b5acea6089e2590059f90b0d0a0be",
     "grade": true,
     "grade_id": "cell-3680ae2159c48193",
     "locked": false,
     "points": 5,
     "schema_version": 1,
     "solution": true
    }
   },
   "source": [
    "YOUR ANSWER HERE"
   ]
  },
  {
   "cell_type": "markdown",
   "metadata": {
    "deletable": false,
    "editable": false,
    "nbgrader": {
     "checksum": "98e04feb59a36867367b3027df9e226d",
     "grade": false,
     "grade_id": "cell-0891dda1c3e80e9a",
     "locked": true,
     "schema_version": 1,
     "solution": false
    }
   },
   "source": [
    "### 1.4 Experiments (20 points)\n",
    "Perform the follow-up experiments listed below using your implementation of the EM algorithm. For each of these, describe/comment on the obtained results and give an explanation. You may still use your dataset with only digits 2, 3 and 4 as otherwise computations can take very long."
   ]
  },
  {
   "cell_type": "markdown",
   "metadata": {
    "deletable": false,
    "editable": false,
    "nbgrader": {
     "checksum": "439067186fa3ef1d7261a9bcf5a84ea6",
     "grade": false,
     "grade_id": "cell-06fe1b1355689928",
     "locked": true,
     "schema_version": 1,
     "solution": false
    }
   },
   "source": [
    "#### 1.4.1 Size of the latent space (5 points)\n",
    "Run EM with $K$ larger or smaller than the true number of classes. Describe your results."
   ]
  },
  {
   "cell_type": "code",
   "execution_count": null,
   "metadata": {
    "deletable": false,
    "nbgrader": {
     "checksum": "791512aeadd30c4b586b966ca10e6fad",
     "grade": true,
     "grade_id": "cell-6c9057f2546b7215",
     "locked": false,
     "points": 2,
     "schema_version": 1,
     "solution": true
    }
   },
   "outputs": [],
   "source": [
    "# YOUR CODE HERE\n",
    "raise NotImplementedError()"
   ]
  },
  {
   "cell_type": "markdown",
   "metadata": {
    "deletable": false,
    "nbgrader": {
     "checksum": "e12e40c2d2165e3bb500b5504128910d",
     "grade": true,
     "grade_id": "cell-f01c37653160244b",
     "locked": false,
     "points": 3,
     "schema_version": 1,
     "solution": true
    }
   },
   "source": [
    "YOUR ANSWER HERE"
   ]
  },
  {
   "cell_type": "markdown",
   "metadata": {
    "deletable": false,
    "editable": false,
    "nbgrader": {
     "checksum": "b306681523a2e35eea310ac10bb68999",
     "grade": false,
     "grade_id": "cell-cf478d67239b7f2e",
     "locked": true,
     "schema_version": 1,
     "solution": false
    }
   },
   "source": [
    "#### 1.4.2 Identify misclassifications (10 points)\n",
    "How can you use the data labels to assign a label to each of the clusters/latent variables? Use this to identify images that are 'misclassified' and try to understand why they are. Report your findings."
   ]
  },
  {
   "cell_type": "code",
   "execution_count": null,
   "metadata": {
    "deletable": false,
    "nbgrader": {
     "checksum": "000c11bd8756a4e24296c7c55d3ee17e",
     "grade": true,
     "grade_id": "cell-daa1a492fbba5c7e",
     "locked": false,
     "points": 5,
     "schema_version": 1,
     "solution": true
    }
   },
   "outputs": [],
   "source": [
    "# YOUR CODE HERE\n",
    "raise NotImplementedError()"
   ]
  },
  {
   "cell_type": "markdown",
   "metadata": {
    "deletable": false,
    "nbgrader": {
     "checksum": "baf43434481c13d76ad51e3ba07e2bf5",
     "grade": true,
     "grade_id": "cell-329245c02df7850d",
     "locked": false,
     "points": 5,
     "schema_version": 1,
     "solution": true
    }
   },
   "source": [
    "YOUR ANSWER HERE"
   ]
  },
  {
   "cell_type": "markdown",
   "metadata": {
    "deletable": false,
    "editable": false,
    "nbgrader": {
     "checksum": "640bc57a2d08c3becf534bb5e4b35971",
     "grade": false,
     "grade_id": "cell-67ce1222e8a7837b",
     "locked": true,
     "schema_version": 1,
     "solution": false
    }
   },
   "source": [
    "#### 1.4.3 Initialize with true values (5 points)\n",
    "Initialize the three classes with the true values of the parameters and see what happens. Report your results."
   ]
  },
  {
   "cell_type": "code",
   "execution_count": null,
   "metadata": {
    "deletable": false,
    "nbgrader": {
     "checksum": "a48f788e286458ef0f776865a3bcd58b",
     "grade": true,
     "grade_id": "cell-aa5d6b9f941d985d",
     "locked": false,
     "points": 2,
     "schema_version": 1,
     "solution": true
    }
   },
   "outputs": [],
   "source": [
    "# YOUR CODE HERE\n",
    "raise NotImplementedError()"
   ]
  },
  {
   "cell_type": "markdown",
   "metadata": {
    "deletable": false,
    "nbgrader": {
     "checksum": "1dc4adf3081f3bec93f94c3b12b87db9",
     "grade": true,
     "grade_id": "cell-981e44f35a3764b0",
     "locked": false,
     "points": 3,
     "schema_version": 1,
     "solution": true
    }
   },
   "source": [
    "YOUR ANSWER HERE"
   ]
  },
  {
   "cell_type": "markdown",
   "metadata": {
    "deletable": false,
    "editable": false,
    "nbgrader": {
     "checksum": "bd613f41e5d2b7d22b0d5b1e7644a48a",
     "grade": false,
     "grade_id": "cell-19bfd7cf4017ed84",
     "locked": true,
     "schema_version": 1,
     "solution": false
    }
   },
   "source": [
    "## Part 2: Variational Auto-Encoder\n",
    "\n",
    "A Variational Auto-Encoder (VAE) is a probabilistic model $p(\\bx, \\bz)$ over observed variables $\\bx$ and latent variables and/or parameters $\\bz$. Here we distinguish the decoder part, $p(\\bx | \\bz) p(\\bz)$ and an encoder part $p(\\bz | \\bx)$ that are both specified with a neural network. A lower bound on the log marginal likelihood $\\log p(\\bx)$ can be obtained by approximately inferring the latent variables z from the observed data x using an encoder distribution $q(\\bz| \\bx)$ that is also specified as a neural network. This lower bound is then optimized to fit the model to the data. \n",
    "\n",
    "The model was introduced by Diederik Kingma (during his PhD at the UVA) and Max Welling in 2013, https://arxiv.org/abs/1312.6114. \n",
    "\n",
    "Since it is such an important model there are plenty of well written tutorials that should help you with the assignment. E.g: https://jaan.io/what-is-variational-autoencoder-vae-tutorial/.\n",
    "\n",
    "In the following, we will make heavily use of the torch module, https://pytorch.org/docs/stable/index.html. Most of the time replacing `np.` with `torch.` will do the trick, e.g. `np.sum` becomes `torch.sum` and `np.log` becomes `torch.log`. In addition, we will use `torch.FloatTensor()` as an equivalent to `np.array()`. In order to train our VAE efficiently we will make use of batching. The number of data points in a batch will become the first dimension of our data tensor, e.g. A batch of 128 MNIST images has the dimensions [128, 1, 28, 28]. To check check the dimensions of a tensor you can call `.size()`."
   ]
  },
  {
   "cell_type": "markdown",
   "metadata": {
    "deletable": false,
    "editable": false,
    "nbgrader": {
     "checksum": "92bd337f41c3f94777f47376c7149ca7",
     "grade": false,
     "grade_id": "cell-bcbe35b20c1007d3",
     "locked": true,
     "schema_version": 1,
     "solution": false
    }
   },
   "source": [
    "### 2.1 Loss function\n",
    "The objective function (variational lower bound), that we will use to train the VAE, consists of two terms: a log Bernoulli loss (reconstruction loss) and a Kullback–Leibler divergence. We implement the two terms separately and combine them in the end.\n",
    "As seen in Part 1: Expectation Maximization, we can use a multivariate Bernoulli distribution to model the likelihood $p(\\bx | \\bz)$ of black and white images. Formally, the variational lower bound is maximized but in PyTorch we are always minimizing therefore we need to calculate the negative log Bernoulli loss and Kullback–Leibler divergence."
   ]
  },
  {
   "cell_type": "markdown",
   "metadata": {
    "deletable": false,
    "editable": false,
    "nbgrader": {
     "checksum": "3fb5f70b132e1233983ef89d19998374",
     "grade": false,
     "grade_id": "cell-389d81024af846e5",
     "locked": true,
     "schema_version": 1,
     "solution": false
    }
   },
   "source": [
    "### 2.1.1 Negative Log Bernoulli loss (5 points)\n",
    "The negative log Bernoulli loss is defined as,\n",
    "\n",
    "\\begin{align}\n",
    "loss = - (\\sum_i^D \\bx_i \\log \\hat{\\bx_i} + (1 − \\bx_i) \\log(1 − \\hat{\\bx_i})).\n",
    "\\end{align}\n",
    "\n",
    "Write a function `log_bernoulli_loss` that takes a D dimensional vector `x`, its reconstruction `x_hat` and returns the negative log Bernoulli loss. Make sure that your function works for batches of arbitrary size."
   ]
  },
  {
   "cell_type": "code",
   "execution_count": null,
   "metadata": {
    "deletable": false,
    "nbgrader": {
     "checksum": "952435ca03f47ab67a7e88b8306fc9a0",
     "grade": false,
     "grade_id": "cell-1d504606d6f99145",
     "locked": false,
     "schema_version": 1,
     "solution": true
    }
   },
   "outputs": [],
   "source": [
    "def log_bernoulli_loss(x_hat, x):\n",
    "    \n",
    "    # YOUR CODE HERE\n",
    "    raise NotImplementedError()\n",
    "    return loss\n"
   ]
  },
  {
   "cell_type": "code",
   "execution_count": null,
   "metadata": {
    "deletable": false,
    "editable": false,
    "nbgrader": {
     "checksum": "bd2a490aa694507bd032e86d77fc0087",
     "grade": true,
     "grade_id": "cell-9666dad0b2a9f483",
     "locked": true,
     "points": 5,
     "schema_version": 1,
     "solution": false
    }
   },
   "outputs": [],
   "source": [
    "### Test test test\n",
    "x_test = torch.FloatTensor([[0.1, 0.2, 0.3, 0.4], [0.5, 0.6, 0.7, 0.8], [0.9, 0.9, 0.9, 0.9]])\n",
    "x_hat_test = torch.FloatTensor([[0.11, 0.22, 0.33, 0.44], [0.55, 0.66, 0.77, 0.88], [0.99, 0.99, 0.99, 0.99]])\n",
    "\n",
    "assert log_bernoulli_loss(x_hat_test, x_test) > 0.0\n",
    "assert log_bernoulli_loss(x_hat_test, x_test) < 10.0\n"
   ]
  },
  {
   "cell_type": "markdown",
   "metadata": {
    "deletable": false,
    "editable": false,
    "nbgrader": {
     "checksum": "6b75b7a531ecc87bce57925c4da464ee",
     "grade": false,
     "grade_id": "cell-b3a7c02dee7aa505",
     "locked": true,
     "schema_version": 1,
     "solution": false
    }
   },
   "source": [
    "### 2.1.2 Negative Kullback–Leibler divergence (10 Points)\n",
    "The variational lower bound (the objective to be maximized) contains a KL term $D_{KL}(q(\\bz)||p(\\bz))$ that can often be calculated analytically. In the VAE we assume $q = N(\\bz, \\mu, \\sigma^2I)$ and $p = N(\\bz, 0, I)$. Solve analytically!"
   ]
  },
  {
   "cell_type": "markdown",
   "metadata": {
    "deletable": false,
    "nbgrader": {
     "checksum": "d01a7e7fe2dcf5f1c5fb955b85c8a04a",
     "grade": true,
     "grade_id": "cell-4cab10fd1a636858",
     "locked": false,
     "points": 5,
     "schema_version": 1,
     "solution": true
    }
   },
   "source": [
    "YOUR ANSWER HERE"
   ]
  },
  {
   "cell_type": "markdown",
   "metadata": {
    "deletable": false,
    "editable": false,
    "nbgrader": {
     "checksum": "328115c94a66e8aba0a62896e647c3ba",
     "grade": false,
     "grade_id": "cell-c49899cbf2a49362",
     "locked": true,
     "schema_version": 1,
     "solution": false
    }
   },
   "source": [
    "Write a function `KL_loss` that takes two J dimensional vectors `mu` and `logvar` and returns the negative Kullback–Leibler divergence. Where `logvar` is $\\log(\\sigma^2)$. Make sure that your function works for batches of arbitrary size."
   ]
  },
  {
   "cell_type": "code",
   "execution_count": null,
   "metadata": {
    "deletable": false,
    "nbgrader": {
     "checksum": "33b14b79372dd0235d67bb66921cd3e0",
     "grade": false,
     "grade_id": "cell-125b41878005206b",
     "locked": false,
     "schema_version": 1,
     "solution": true
    }
   },
   "outputs": [],
   "source": [
    "def KL_loss(mu, logvar):\n",
    "    \n",
    "    # YOUR CODE HERE\n",
    "    raise NotImplementedError()\n",
    "    return loss\n"
   ]
  },
  {
   "cell_type": "code",
   "execution_count": null,
   "metadata": {
    "deletable": false,
    "editable": false,
    "nbgrader": {
     "checksum": "cf72e196d2b60827e8e940681ac50a07",
     "grade": true,
     "grade_id": "cell-ba714bbe270a3f39",
     "locked": true,
     "points": 5,
     "schema_version": 1,
     "solution": false
    }
   },
   "outputs": [],
   "source": [
    "### Test test test\n",
    "mu_test = torch.FloatTensor([[0.1, 0.2], [0.3, 0.4], [0.5, 0.6]])\n",
    "logvar_test = torch.FloatTensor([[0.01, 0.02], [0.03, 0.04], [0.05, 0.06]])\n",
    "\n",
    "assert KL_loss(mu_test, logvar_test) > 0.0\n",
    "assert KL_loss(mu_test, logvar_test) < 10.0\n"
   ]
  },
  {
   "cell_type": "markdown",
   "metadata": {
    "deletable": false,
    "editable": false,
    "nbgrader": {
     "checksum": "65335a588baac26bc48dd6c4d275fdca",
     "grade": false,
     "grade_id": "cell-18cb3f8031edec23",
     "locked": true,
     "schema_version": 1,
     "solution": false
    }
   },
   "source": [
    "### 2.1.3 Putting the losses together (5 points)\n",
    "Write a function `loss_function` that takes a D dimensional vector `x`, its reconstruction `x_hat`, two J dimensional vectors `mu` and `logvar` and returns the final loss. Make sure that your function works for batches of arbitrary size."
   ]
  },
  {
   "cell_type": "code",
   "execution_count": null,
   "metadata": {
    "deletable": false,
    "nbgrader": {
     "checksum": "f6ecb5b60b2c8d7b90070ed59320ee70",
     "grade": false,
     "grade_id": "cell-d2d18781683f1302",
     "locked": false,
     "schema_version": 1,
     "solution": true
    }
   },
   "outputs": [],
   "source": [
    "def loss_function(x_hat, x, mu, logvar):\n",
    "    \n",
    "    # YOUR CODE HERE\n",
    "    raise NotImplementedError()\n",
    "    return loss\n"
   ]
  },
  {
   "cell_type": "code",
   "execution_count": null,
   "metadata": {
    "deletable": false,
    "editable": false,
    "nbgrader": {
     "checksum": "816e9508408bfcb2c7332b508d505081",
     "grade": true,
     "grade_id": "cell-57747988d29bbb5d",
     "locked": true,
     "points": 5,
     "schema_version": 1,
     "solution": false
    }
   },
   "outputs": [],
   "source": [
    "x_test = torch.FloatTensor([[0.1, 0.2, 0.3], [0.4, 0.5, 0.6], [0.7, 0.8, 0.9]])\n",
    "x_hat_test = torch.FloatTensor([[0.11, 0.22, 0.33], [0.44, 0.55, 0.66], [0.77, 0.88, 0.99]])\n",
    "mu_test = torch.FloatTensor([[0.1, 0.2], [0.3, 0.4], [0.5, 0.6]])\n",
    "logvar_test = torch.FloatTensor([[0.01, 0.02], [0.03, 0.04], [0.05, 0.06]])\n",
    "\n",
    "assert loss_function(x_hat_test, x_test, mu_test, logvar_test) > 0.0\n",
    "assert loss_function(x_hat_test, x_test, mu_test, logvar_test) < 10.0\n"
   ]
  },
  {
   "cell_type": "markdown",
   "metadata": {
    "deletable": false,
    "editable": false,
    "nbgrader": {
     "checksum": "4506e06ed44a0535140582277a528ba4",
     "grade": false,
     "grade_id": "cell-9e3ba708967fe918",
     "locked": true,
     "schema_version": 1,
     "solution": false
    }
   },
   "source": [
    "### 2.2 The model\n",
    "Below you see a data structure for the VAE. The modell itself consists of two main parts the encoder (images $\\bx$ to latent variables $\\bz$) and the decoder (latent variables $\\bz$ to images $\\bx$). The encoder is using 3 fully-connected layers, whereas the decoder is using fully-connected layers. Right now the data structure is quite empty, step by step will update its functionality. For test purposes we will initialize a VAE for you. After the data structure is completed you will do the hyperparameter search.\n"
   ]
  },
  {
   "cell_type": "code",
   "execution_count": null,
   "metadata": {
    "deletable": false,
    "editable": false,
    "nbgrader": {
     "checksum": "31eccf2f6600764e28eb4bc6c5634e49",
     "grade": false,
     "grade_id": "cell-e7d9dafee18f28a1",
     "locked": true,
     "schema_version": 1,
     "solution": false
    }
   },
   "outputs": [],
   "source": [
    "from torch import nn\n",
    "from torch.nn import functional as F \n",
    "\n",
    "class VAE(nn.Module):\n",
    "    def __init__(self, fc1_dims, fc21_dims, fc22_dims, fc3_dims, fc4_dims):\n",
    "        super(VAE, self).__init__()\n",
    "\n",
    "        self.fc1 = nn.Linear(*fc1_dims)\n",
    "        self.fc21 = nn.Linear(*fc21_dims)\n",
    "        self.fc22 = nn.Linear(*fc22_dims)\n",
    "        self.fc3 = nn.Linear(*fc3_dims)\n",
    "        self.fc4 = nn.Linear(*fc4_dims)\n",
    "\n",
    "    def encode(self, x):\n",
    "        # To be implemented\n",
    "        raise Exception('Method not implemented')\n",
    "\n",
    "    def reparameterize(self, mu, logvar):\n",
    "        # To be implemented\n",
    "        raise Exception('Method not implemented')\n",
    "\n",
    "    def decode(self, z):\n",
    "        # To be implemented\n",
    "        raise Exception('Method not implemented')\n",
    "\n",
    "    def forward(self, x):\n",
    "        # To be implemented\n",
    "        raise Exception('Method not implemented')\n",
    "\n",
    "VAE_test = VAE(fc1_dims=(784, 4), fc21_dims=(4, 2), fc22_dims=(4, 2), fc3_dims=(2, 4), fc4_dims=(4, 784))\n"
   ]
  },
  {
   "cell_type": "markdown",
   "metadata": {
    "deletable": false,
    "editable": false,
    "nbgrader": {
     "checksum": "1a2243397998b4f55c25dfd734f3e7e0",
     "grade": false,
     "grade_id": "cell-c4f9e841b8972a43",
     "locked": true,
     "schema_version": 1,
     "solution": false
    }
   },
   "source": [
    "### 2.3 Encoding (10 points)\n",
    "Write a function `encode` that gets a vector `x` with 784 elements (flattened MNIST image) and returns `mu` and `logvar`. Your function should use three fully-connected layers (`self.fc1()`, `self.fc21()`, `self.fc22()`). First, you should use `self.fc1()` to embed `x`. Second, you should use `self.fc21()` and `self.fc22()` on the embedding of `x` to compute `mu` and `logvar` respectively. PyTorch comes with a variety of activation functions, the most common calls are `F.relu()`, `F.sigmoid()`, `F.tanh()`. Make sure that your function works for batches of arbitrary size.  "
   ]
  },
  {
   "cell_type": "code",
   "execution_count": null,
   "metadata": {
    "deletable": false,
    "nbgrader": {
     "checksum": "628bcd88c611cf01e70f77854600199b",
     "grade": false,
     "grade_id": "cell-93cb75b98ae76569",
     "locked": false,
     "schema_version": 1,
     "solution": true
    }
   },
   "outputs": [],
   "source": [
    "def encode(self, x):\n",
    "    \n",
    "    # YOUR CODE HERE\n",
    "    raise NotImplementedError()\n",
    "    return mu, logvar\n"
   ]
  },
  {
   "cell_type": "code",
   "execution_count": null,
   "metadata": {
    "deletable": false,
    "editable": false,
    "nbgrader": {
     "checksum": "370d930fa9f10f1d3a451f3805c04d88",
     "grade": true,
     "grade_id": "cell-9648960b73337a70",
     "locked": true,
     "points": 10,
     "schema_version": 1,
     "solution": false
    }
   },
   "outputs": [],
   "source": [
    "### Test, test, test\n",
    "VAE.encode = encode\n",
    "\n",
    "x_test = torch.ones((5,784))\n",
    "mu_test, logvar_test = VAE_test.encode(x_test)\n",
    "\n",
    "assert np.allclose(mu_test.size(), [5, 2])\n",
    "assert np.allclose(logvar_test.size(), [5, 2])\n"
   ]
  },
  {
   "cell_type": "markdown",
   "metadata": {
    "deletable": false,
    "editable": false,
    "nbgrader": {
     "checksum": "6f597cc2b5ef941af282d7162297f865",
     "grade": false,
     "grade_id": "cell-581b4ed1996be868",
     "locked": true,
     "schema_version": 1,
     "solution": false
    }
   },
   "source": [
    "### 2.4 Reparameterization (10 points)\n",
    "One of the major question that the VAE is answering, is 'how to take derivatives with respect to the parameters of a stochastic variable?', i.e. if we are given $\\bz$ that is drawn from a distribution $q(\\bz|\\bx)$, and we want to take derivatives. This step is necessary to be able to use gradient-based optimization algorithms like SGD.\n",
    "For some distributions, it is possible to reparameterize samples in a clever way, such that the stochasticity is independent of the parameters. We want our samples to deterministically depend on the parameters of the distribution. For example, in a normally-distributed variable with mean $\\mu$ and standard deviation $\\sigma$, we can sample from it like this:\n",
    "\n",
    "\\begin{align}\n",
    "\\bz = \\mu + \\sigma \\odot \\epsilon,\n",
    "\\end{align}\n",
    "\n",
    "where $\\odot$ is the element-wise multiplication and $\\epsilon$ is sampled from $N(0, I)$.\n",
    "\n",
    "\n",
    "Write a function `reparameterize` that takes two J dimensional vectors `mu` and `logvar`. It should return $\\bz = \\mu + \\sigma \\odot \\epsilon$.\n"
   ]
  },
  {
   "cell_type": "code",
   "execution_count": null,
   "metadata": {
    "deletable": false,
    "nbgrader": {
     "checksum": "6331cb5dd23aaacbcf1a52cfecb1afaa",
     "grade": false,
     "grade_id": "cell-679aea8b2adf7ec4",
     "locked": false,
     "schema_version": 1,
     "solution": true
    }
   },
   "outputs": [],
   "source": [
    "def reparameterize(self, mu, logvar):\n",
    "            \n",
    "        # YOUR CODE HERE\n",
    "        raise NotImplementedError()\n",
    "        return z\n"
   ]
  },
  {
   "cell_type": "code",
   "execution_count": null,
   "metadata": {
    "deletable": false,
    "editable": false,
    "nbgrader": {
     "checksum": "38d4e047717ab334b262c8c177f0a420",
     "grade": true,
     "grade_id": "cell-fdd7b27a3d17f84e",
     "locked": true,
     "points": 10,
     "schema_version": 1,
     "solution": false
    }
   },
   "outputs": [],
   "source": [
    "### Test, test, test\n",
    "VAE.reparameterize = reparameterize\n",
    "VAE_test.train()\n",
    "\n",
    "mu_test = torch.FloatTensor([[0.1, 0.2], [0.3, 0.4], [0.5, 0.6]])\n",
    "logvar_test = torch.FloatTensor([[0.01, 0.02], [0.03, 0.04], [0.05, 0.06]])\n",
    "\n",
    "z_test = VAE_test.reparameterize(mu_test, logvar_test)\n",
    "\n",
    "assert np.allclose(z_test.size(), [3, 2])\n",
    "assert z_test[0][0] < 5.0\n",
    "assert z_test[0][0] > -5.0\n"
   ]
  },
  {
   "cell_type": "markdown",
   "metadata": {
    "deletable": false,
    "editable": false,
    "nbgrader": {
     "checksum": "9241ab0eaf8366c37ad57072ce66f095",
     "grade": false,
     "grade_id": "cell-0be851f9f7f0a93e",
     "locked": true,
     "schema_version": 1,
     "solution": false
    }
   },
   "source": [
    "### 2.5 Decoding (10 points)\n",
    "Write a function `decode` that gets a vector `z` with J elements and returns a vector `x_hat` with 784 elements (flattened MNIST image). Your function should use two fully-connected layers (`self.fc3()`, `self.fc4()`). PyTorch comes with a variety of activation functions, the most common calls are `F.relu()`, `F.sigmoid()`, `F.tanh()`. Make sure that your function works for batches of arbitrary size."
   ]
  },
  {
   "cell_type": "code",
   "execution_count": null,
   "metadata": {
    "deletable": false,
    "nbgrader": {
     "checksum": "e8e833cfd7c54a9b67a38056d5d6cab8",
     "grade": false,
     "grade_id": "cell-bf92bb3878275a41",
     "locked": false,
     "schema_version": 1,
     "solution": true
    }
   },
   "outputs": [],
   "source": [
    "def decode(self, z):\n",
    "    \n",
    "    # YOUR CODE HERE\n",
    "    raise NotImplementedError()\n",
    "    return x_hat\n"
   ]
  },
  {
   "cell_type": "code",
   "execution_count": null,
   "metadata": {
    "deletable": false,
    "editable": false,
    "nbgrader": {
     "checksum": "7732293fd7d971fcf255496e8c68638d",
     "grade": true,
     "grade_id": "cell-4abb91cb9e80af5d",
     "locked": true,
     "points": 10,
     "schema_version": 1,
     "solution": false
    }
   },
   "outputs": [],
   "source": [
    "# test test test\n",
    "VAE.decode = decode\n",
    "\n",
    "z_test = torch.ones((5,2))\n",
    "x_hat_test = VAE_test.decode(z_test)\n",
    "\n",
    "assert np.allclose(x_hat_test.size(), [5, 784])\n",
    "assert (x_hat_test <= 1).all()\n",
    "assert (x_hat_test >= 0).all()\n"
   ]
  },
  {
   "cell_type": "markdown",
   "metadata": {
    "deletable": false,
    "editable": false,
    "nbgrader": {
     "checksum": "e2e113d1f45398b2a1399c336526e755",
     "grade": false,
     "grade_id": "cell-97511fbc4f5b469b",
     "locked": true,
     "schema_version": 1,
     "solution": false
    }
   },
   "source": [
    "### 2.6 Forward pass (10)\n",
    "To complete the data structure you have to define a forward pass through the VAE. A single forward pass consists of the encoding of an MNIST image $\\bx$ into latent space $\\bz$, the reparameterization of $\\bz$ and the decoding of $\\bz$ into an image $\\bx$.\n",
    "\n",
    "Write a function `forward` that gets a a vector `x` with 784 elements (flattened MNIST image) and returns a vector `x_hat` with 784 elements (flattened MNIST image), `mu` and `logvar`."
   ]
  },
  {
   "cell_type": "code",
   "execution_count": null,
   "metadata": {
    "deletable": false,
    "nbgrader": {
     "checksum": "8b7433c4631dd01c07a5fe287e55ae13",
     "grade": false,
     "grade_id": "cell-26bb463b9f98ebd5",
     "locked": false,
     "schema_version": 1,
     "solution": true
    }
   },
   "outputs": [],
   "source": [
    "def forward(self, x):\n",
    "    x = x.view(-1, 784)\n",
    "    \n",
    "    # YOUR CODE HERE\n",
    "    raise NotImplementedError()\n",
    "    return x_hat, mu, logvar\n"
   ]
  },
  {
   "cell_type": "code",
   "execution_count": null,
   "metadata": {
    "deletable": false,
    "editable": false,
    "nbgrader": {
     "checksum": "8e7e495f40465c162512e9873c360b25",
     "grade": true,
     "grade_id": "cell-347e5fba3d02754b",
     "locked": true,
     "points": 10,
     "schema_version": 1,
     "solution": false
    }
   },
   "outputs": [],
   "source": [
    "# test test test \n",
    "VAE.forward = forward\n",
    "\n",
    "x_test = torch.ones((5,784))\n",
    "x_hat_test, mu_test, logvar_test = VAE_test.forward(x_test)\n",
    "\n",
    "assert np.allclose(x_hat_test.size(), [5, 784])\n",
    "assert np.allclose(mu_test.size(), [5, 2])\n",
    "assert np.allclose(logvar_test.size(), [5, 2])\n"
   ]
  },
  {
   "cell_type": "markdown",
   "metadata": {
    "deletable": false,
    "editable": false,
    "nbgrader": {
     "checksum": "a114a6fd781fb949b887e6a028e07946",
     "grade": false,
     "grade_id": "cell-62c89e4d3b253671",
     "locked": true,
     "schema_version": 1,
     "solution": false
    }
   },
   "source": [
    "### 2.7 Training (15)\n",
    "We will now train the VAE using an optimizer called Adam, https://arxiv.org/abs/1412.6980. The code to train a model in PyTorch is given below."
   ]
  },
  {
   "cell_type": "code",
   "execution_count": null,
   "metadata": {
    "deletable": false,
    "editable": false,
    "nbgrader": {
     "checksum": "f3b6bb965fb48229c63cacda48baea65",
     "grade": false,
     "grade_id": "cell-be75f61b09f3b9b6",
     "locked": true,
     "schema_version": 1,
     "solution": false
    }
   },
   "outputs": [],
   "source": [
    "from torch.autograd import Variable\n",
    "\n",
    "def train(epoch, train_loader, model, optimizer):\n",
    "    model.train()\n",
    "    train_loss = 0\n",
    "    for batch_idx, (data, _) in enumerate(train_loader):\n",
    "        data = Variable(data)\n",
    "        optimizer.zero_grad()\n",
    "        recon_batch, mu, logvar = model(data)\n",
    "        loss = loss_function(recon_batch, data.view(-1, 784), mu, logvar)\n",
    "        loss.backward()\n",
    "        train_loss += loss.data\n",
    "        optimizer.step()\n",
    "        if batch_idx % 100 == 0:\n",
    "            print('Train Epoch: {} [{}/{} ({:.0f}%)]\\tLoss: {:.6f}'.format(\n",
    "                epoch, batch_idx * len(data), len(train_loader.dataset),\n",
    "                100. * batch_idx / len(train_loader),\n",
    "                loss.data / len(data)))\n",
    "\n",
    "    print('====> Epoch: {} Average loss: {:.4f}'.format(\n",
    "          epoch, train_loss / len(train_loader.dataset)))\n"
   ]
  },
  {
   "cell_type": "markdown",
   "metadata": {
    "deletable": false,
    "editable": false,
    "nbgrader": {
     "checksum": "48ca730dbef06a668f4dfdb24888f265",
     "grade": false,
     "grade_id": "cell-da1b063b7de850b9",
     "locked": true,
     "schema_version": 1,
     "solution": false
    }
   },
   "source": [
    "Let's train. You have to choose the hyperparameters. Make sure your loss is going down in a reasonable amount of epochs (around 10)."
   ]
  },
  {
   "cell_type": "code",
   "execution_count": null,
   "metadata": {
    "deletable": false,
    "nbgrader": {
     "checksum": "846430258fb80f50b161135448726520",
     "grade": false,
     "grade_id": "cell-d4d4408d397f6967",
     "locked": false,
     "schema_version": 1,
     "solution": true
    }
   },
   "outputs": [],
   "source": [
    "# Hyperparameters\n",
    "# fc1_dims = (?,?)\n",
    "# fc21_dims =\n",
    "# fc22_dims =\n",
    "# fc3_dims =\n",
    "# fc4_dims =\n",
    "# lr =\n",
    "# batch_size =\n",
    "# epochs =\n",
    "\n",
    "# YOUR CODE HERE\n",
    "raise NotImplementedError()\n"
   ]
  },
  {
   "cell_type": "code",
   "execution_count": null,
   "metadata": {
    "deletable": false,
    "editable": false,
    "nbgrader": {
     "checksum": "b93390f399b743276bc25e67493344f2",
     "grade": true,
     "grade_id": "cell-ca352d8389c1809a",
     "locked": true,
     "points": 15,
     "schema_version": 1,
     "solution": false
    }
   },
   "outputs": [],
   "source": [
    "# This cell contains a hidden test, please don't delete it, thx"
   ]
  },
  {
   "cell_type": "markdown",
   "metadata": {
    "deletable": false,
    "editable": false,
    "nbgrader": {
     "checksum": "20719070ed85964de9722acc3456a515",
     "grade": false,
     "grade_id": "cell-5c77370db7cec9f2",
     "locked": true,
     "schema_version": 1,
     "solution": false
    }
   },
   "source": [
    "Run the box below to train the model using the hyperparameters you entered above."
   ]
  },
  {
   "cell_type": "code",
   "execution_count": null,
   "metadata": {
    "deletable": false,
    "editable": false,
    "nbgrader": {
     "checksum": "38306be3638e85812bd5b2a052fcc0a4",
     "grade": false,
     "grade_id": "cell-5712d42de1068398",
     "locked": true,
     "schema_version": 1,
     "solution": false
    }
   },
   "outputs": [],
   "source": [
    "from torchvision import datasets, transforms\n",
    "from torch import nn, optim\n",
    "\n",
    "# Load data\n",
    "train_data = datasets.MNIST('../data', train=True, download=True,\n",
    "                   transform=transforms.ToTensor())\n",
    "\n",
    "train_loader = torch.utils.data.DataLoader(train_data,\n",
    "                                           batch_size=batch_size, shuffle=True, **{})\n",
    "\n",
    "# Init model\n",
    "VAE_MNIST = VAE(fc1_dims=fc1_dims, fc21_dims=fc21_dims, fc22_dims=fc22_dims, fc3_dims=fc3_dims, fc4_dims=fc4_dims)\n",
    "\n",
    "# Init optimizer\n",
    "optimizer = optim.Adam(VAE_MNIST.parameters(), lr=lr)\n",
    "\n",
    "# Train\n",
    "for epoch in range(1, epochs + 1):\n",
    "    train(epoch, train_loader, VAE_MNIST, optimizer)\n"
   ]
  },
  {
   "cell_type": "markdown",
   "metadata": {
    "deletable": false,
    "editable": false,
    "nbgrader": {
     "checksum": "e2f8fcc9384e30cb154cf931f223898b",
     "grade": false,
     "grade_id": "cell-bd07c058c661b9c6",
     "locked": true,
     "schema_version": 1,
     "solution": false
    }
   },
   "source": [
    "Run the box below to check if the model you trained above is able to correctly reconstruct images."
   ]
  },
  {
   "cell_type": "code",
   "execution_count": null,
   "metadata": {
    "deletable": false,
    "editable": false,
    "nbgrader": {
     "checksum": "80d198e03b1287741d761a12e38dcf73",
     "grade": false,
     "grade_id": "cell-df03d717307a6863",
     "locked": true,
     "schema_version": 1,
     "solution": false
    }
   },
   "outputs": [],
   "source": [
    "### Let's check if the reconstructions make sense\n",
    "# Set model to test mode\n",
    "VAE_MNIST.eval()\n",
    "    \n",
    "# Reconstructed\n",
    "train_data_plot = datasets.MNIST('../data', train=True, download=True,\n",
    "                   transform=transforms.ToTensor())\n",
    "\n",
    "train_loader_plot = torch.utils.data.DataLoader(train_data_plot,\n",
    "                                           batch_size=1, shuffle=False, **{})\n",
    "\n",
    "for batch_idx, (data, _) in enumerate(train_loader_plot):\n",
    "    x_hat, mu, logvar = VAE_MNIST(data)\n",
    "    plt.imshow(x_hat.view(1,28,28).squeeze().data.numpy(), cmap='gray')\n",
    "    plt.title('%i' % train_data.train_labels[batch_idx])\n",
    "    plt.show()\n",
    "    if batch_idx == 3:\n",
    "        break\n"
   ]
  },
  {
   "cell_type": "markdown",
   "metadata": {
    "deletable": false,
    "editable": false,
    "nbgrader": {
     "checksum": "7f559122b150f5f1228d6b66b62f462c",
     "grade": false,
     "grade_id": "cell-76649d51fdf133dc",
     "locked": true,
     "schema_version": 1,
     "solution": false
    }
   },
   "source": [
    "### 2.8 Visualize latent space (20 points)\n",
    "Now, implement the auto-encoder now with a 2-dimensional latent space, and train again over the MNIST data. Make a visualization of the learned manifold by using a linearly spaced coordinate grid as input for the latent space, as seen in  https://arxiv.org/abs/1312.6114 Figure 4."
   ]
  },
  {
   "cell_type": "code",
   "execution_count": null,
   "metadata": {
    "deletable": false,
    "nbgrader": {
     "checksum": "c879ffdb0d355349d7144a33d16ca93a",
     "grade": true,
     "grade_id": "cell-4a0af6d08d055bee",
     "locked": false,
     "points": 20,
     "schema_version": 1,
     "solution": true
    }
   },
   "outputs": [],
   "source": [
    "# YOUR CODE HERE\n",
    "raise NotImplementedError()\n"
   ]
  },
  {
   "cell_type": "markdown",
   "metadata": {
    "deletable": false,
    "editable": false,
    "nbgrader": {
     "checksum": "b9eb1684d646eea84a25638d184bfbda",
     "grade": false,
     "grade_id": "cell-dc5e1247a1e21009",
     "locked": true,
     "schema_version": 1,
     "solution": false
    }
   },
   "source": [
    "### 2.8 Amortized inference (10 points)\n",
    "What is amortized inference? Where in the code of Part 2 is it used? What is the benefit of using it?\n"
   ]
  },
  {
   "cell_type": "markdown",
   "metadata": {
    "deletable": false,
    "nbgrader": {
     "checksum": "364ed922da59070f319d0bdfb0e41d92",
     "grade": true,
     "grade_id": "cell-6f7808a9b0098dbf",
     "locked": false,
     "points": 10,
     "schema_version": 1,
     "solution": true
    }
   },
   "source": [
    "YOUR ANSWER HERE"
   ]
  }
 ],
 "metadata": {
  "kernelspec": {
   "display_name": "Python 3",
   "language": "python",
   "name": "python3"
  },
  "language_info": {
   "codemirror_mode": {
    "name": "ipython",
    "version": 3
   },
   "file_extension": ".py",
   "mimetype": "text/x-python",
   "name": "python",
   "nbconvert_exporter": "python",
   "pygments_lexer": "ipython3",
   "version": "3.6.4"
  }
 },
 "nbformat": 4,
 "nbformat_minor": 2
}
